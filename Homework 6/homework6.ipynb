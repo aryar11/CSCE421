{
 "cells": [
  {
   "cell_type": "markdown",
   "metadata": {
    "id": "WcE39zEwyuJ7"
   },
   "source": [
    "# CSCE 421 :: Machine Learning :: Texas A&M University :: Spring 2023\n",
    "\n",
    "# Homework 6 (HW-6)\n",
    "**Name: Arya Rahmanian**  \n",
    "**UIN: 628003027**  "
   ]
  },
  {
   "cell_type": "markdown",
   "metadata": {
    "id": "ifUFY68YyuJ_"
   },
   "source": [
    "# Convolutional Neural Networks\n",
    "\n",
    "In this assignment, you'll be coding up a convolutional neural network from scratch to classify images using PyTorch.  \n",
    "\n",
    "### Instructions\n",
    "- Install PyTorch following the instructions [here](https://pytorch.org/).\n",
    "- Install the [`torchinfo` package](https://github.com/TylerYep/torchinfo) to visualize the network architecture and the number of parameters. The maximum number of parameters you are allowed to use for your network is **100,000**. \n",
    "- You are required to complete the functions defined in the code blocks following each question. Fill out sections of the code marked `\"YOUR CODE HERE\"`.\n",
    "- You're free to add any number of methods within each class.\n",
    "- You may also add any number of additional code blocks that you deem necessary. \n",
    "- Once you've filled out your solutions, submit the notebook on Canvas.\n",
    "- Do **NOT** forget to type in your name and UIN at the beginning of the notebook."
   ]
  },
  {
   "cell_type": "markdown",
   "metadata": {
    "id": "43mQs43ryuKA"
   },
   "source": [
    "## Data Preparation"
   ]
  },
  {
   "cell_type": "markdown",
   "metadata": {},
   "source": [
    "#### Install the libraries you need based on your environment"
   ]
  },
  {
   "cell_type": "code",
   "execution_count": 1,
   "metadata": {},
   "outputs": [],
   "source": [
    "# !pip install ..."
   ]
  },
  {
   "cell_type": "code",
   "execution_count": 2,
   "metadata": {
    "id": "_0NNNwDRyuKA"
   },
   "outputs": [],
   "source": [
    "# Importing the libraries\n",
    "import os\n",
    "import torch\n",
    "import torchvision\n",
    "from torchvision.utils import make_grid\n",
    "\n",
    "import numpy as np"
   ]
  },
  {
   "cell_type": "markdown",
   "metadata": {
    "id": "9g-7MOVTyuKB"
   },
   "source": [
    "In this assignment, we will use the Fashion-MNIST dataset. Fashion-MNIST is a dataset of Zalando's article images—consisting of a training set of 60,000 examples. Each example is a 28x28 grayscale image, associated with a label from 10 classes.  \n",
    "\n",
    "### Data\n",
    "\n",
    "Each image is 28 pixels in height and 28 pixels in width, for a total of 784 pixels in total. Each pixel has a single pixel-value associated with it, indicating the lightness or darkness of that pixel, with higher numbers meaning darker. This pixel-value is an integer between 0 and 255.  \n",
    "\n",
    "### Labels\n",
    "\n",
    "Each training and test example is assigned to one of the following labels:\n",
    "\n",
    "| Label | Description |\n",
    "|-------|-------------|\n",
    "| 0     | T-shirt/top |\n",
    "| 1     | Trouser     |\n",
    "| 2     | Pullover    |\n",
    "| 3     | Dress       |\n",
    "| 4     | Coat        |\n",
    "| 5     | Sandal      |\n",
    "| 6     | Shirt       |\n",
    "| 7     | Sneaker     |\n",
    "| 8     | Bag         |\n",
    "| 9     | Ankle boot  |\n",
    "\n",
    "Fashion-MNIST is included in the `torchvision` library."
   ]
  },
  {
   "cell_type": "code",
   "execution_count": 3,
   "metadata": {
    "id": "Q6nztLS7yuKC"
   },
   "outputs": [],
   "source": [
    "from torchvision.datasets import FashionMNIST\n",
    "from torchvision.transforms import Compose, ToTensor, Normalize"
   ]
  },
  {
   "cell_type": "code",
   "execution_count": 4,
   "metadata": {
    "id": "Z_uzCztNyuKD"
   },
   "outputs": [],
   "source": [
    "# Transform to normalize the data and convert to a tensor\n",
    "transform = Compose([ToTensor(),\n",
    "    Normalize((0.5,), (0.5,))\n",
    "    ])\n",
    "\n",
    "# Download the data\n",
    "dataset = FashionMNIST('MNIST_data/', download = True, train = True, transform = transform)"
   ]
  },
  {
   "cell_type": "markdown",
   "metadata": {
    "id": "2S1W1ktCyuKD"
   },
   "source": [
    "## Data Exploration"
   ]
  },
  {
   "cell_type": "markdown",
   "metadata": {
    "id": "t5JfHJvzyuKE"
   },
   "source": [
    "Let's take a look at the classes in our dataset."
   ]
  },
  {
   "cell_type": "code",
   "execution_count": 5,
   "metadata": {
    "id": "yZ2JquNdyuKE"
   },
   "outputs": [
    {
     "name": "stdout",
     "output_type": "stream",
     "text": [
      "['T-shirt/top', 'Trouser', 'Pullover', 'Dress', 'Coat', 'Sandal', 'Shirt', 'Sneaker', 'Bag', 'Ankle boot']\n"
     ]
    }
   ],
   "source": [
    "print(dataset.classes)"
   ]
  },
  {
   "cell_type": "code",
   "execution_count": 6,
   "metadata": {
    "id": "QU9EQWFoyuKE"
   },
   "outputs": [],
   "source": [
    "import matplotlib.pyplot as plt\n",
    "\n",
    "def show_example(img, label):\n",
    "    print('Label: {} ({})'.format(dataset.classes[label], label))\n",
    "    plt.imshow(img.squeeze(), cmap='Greys_r')\n",
    "    plt.axis(False)"
   ]
  },
  {
   "cell_type": "code",
   "execution_count": 7,
   "metadata": {
    "id": "TovSQLF6yuKF"
   },
   "outputs": [
    {
     "name": "stdout",
     "output_type": "stream",
     "text": [
      "Label: Dress (3)\n"
     ]
    },
    {
     "data": {
      "image/png": "[encoded data removed]",
      "text/plain": [
       "<Figure size 432x288 with 1 Axes>"
      ]
     },
     "metadata": {
      "needs_background": "light"
     },
     "output_type": "display_data"
    }
   ],
   "source": [
    "show_example(*dataset[20])"
   ]
  },
  {
   "cell_type": "code",
   "execution_count": 8,
   "metadata": {
    "id": "lDiRVqLsyuKF"
   },
   "outputs": [
    {
     "name": "stdout",
     "output_type": "stream",
     "text": [
      "Label: Sneaker (7)\n"
     ]
    },
    {
     "data": {
      "image/png": "[encoded data removed]",
      "text/plain": [
       "<Figure size 432x288 with 1 Axes>"
      ]
     },
     "metadata": {
      "needs_background": "light"
     },
     "output_type": "display_data"
    }
   ],
   "source": [
    "show_example(*dataset[20000])"
   ]
  },
  {
   "cell_type": "markdown",
   "metadata": {
    "id": "8GMSy_GHyuKF"
   },
   "source": [
    "## Creating Training and Validation Datasets"
   ]
  },
  {
   "cell_type": "markdown",
   "metadata": {
    "id": "R_MEJjfYyuKF"
   },
   "source": [
    "The `split_indices` function takes in the size of the entire dataset, `n`, the fraction of data to be used as validation set, `val_frac`, and the random seed and returns the indices of the data points to be added to the validation dataset.  \n",
    "\n",
    "**Choose a suitable fraction for your validation set and experiment with the seed. Remember that the better your validation set, the higher the chances that your model would do well on the test set.**"
   ]
  },
  {
   "cell_type": "code",
   "execution_count": 9,
   "metadata": {
    "id": "Kho3emIRyuKF"
   },
   "outputs": [],
   "source": [
    "def split_indices(n, val_frac, seed):\n",
    "    # Determine the size of the validation set\n",
    "    n_val = int(val_frac * n)\n",
    "    np.random.seed(seed)\n",
    "    # Create random permutation between 0 to n-1\n",
    "    idxs = np.random.permutation(n)\n",
    "    # Pick first n_val indices for validation set\n",
    "    return idxs[n_val:], idxs[:n_val]"
   ]
  },
  {
   "cell_type": "code",
   "execution_count": 10,
   "metadata": {
    "id": "NC7a43-ZyuKG"
   },
   "outputs": [
    {
     "name": "stdout",
     "output_type": "stream",
     "text": [
      "#samples in training set: 36000\n",
      "#samples in validation set: 24000\n"
     ]
    }
   ],
   "source": [
    "######################\n",
    "#   YOUR CODE BELOW  #\n",
    "######################\n",
    "val_frac =  .4 ## Set the fraction for the validation set\n",
    "rand_seed =  99 ## Set the random seed\n",
    "\n",
    "train_indices, val_indices = split_indices(len(dataset), val_frac, rand_seed)\n",
    "print(\"#samples in training set: {}\".format(len(train_indices)))\n",
    "print(\"#samples in validation set: {}\".format(len(val_indices)))"
   ]
  },
  {
   "cell_type": "markdown",
   "metadata": {
    "id": "5JbJS5GByuKG"
   },
   "source": [
    "Next, we make use of the built-in dataloaders in PyTorch to create iterables of our our training and validation sets. This helps in avoiding fitting the whole dataset into memory and only loads a batch of the data that we can decide. \n",
    "\n",
    "**Set the `batch_size` depending on the hardware resource (GPU/CPU RAM) you are using for the assignment.**"
   ]
  },
  {
   "cell_type": "code",
   "execution_count": 11,
   "metadata": {
    "id": "Xn2qrDnkyuKG"
   },
   "outputs": [],
   "source": [
    "from torch.utils.data.sampler import SubsetRandomSampler\n",
    "from torch.utils.data.dataloader import DataLoader"
   ]
  },
  {
   "cell_type": "code",
   "execution_count": 12,
   "metadata": {
    "id": "GQwCiHOhyuKG"
   },
   "outputs": [],
   "source": [
    "######################\n",
    "#   YOUR CODE BELOW  #\n",
    "######################\n",
    "batch_size =  64 ## Set the batch size"
   ]
  },
  {
   "cell_type": "code",
   "execution_count": 13,
   "metadata": {
    "id": "2gR9bGnYyuKG"
   },
   "outputs": [],
   "source": [
    "# Training sampler and data loader\n",
    "train_sampler = SubsetRandomSampler(train_indices)\n",
    "train_dl = DataLoader(dataset,\n",
    "                     batch_size=batch_size,\n",
    "                     sampler=train_sampler)\n",
    "\n",
    "# Validation sampler and data loader\n",
    "val_sampler = SubsetRandomSampler(val_indices)\n",
    "val_dl = DataLoader(dataset,\n",
    "                   batch_size=batch_size,\n",
    "                   sampler=val_sampler)"
   ]
  },
  {
   "cell_type": "markdown",
   "metadata": {
    "id": "yZ49pxx9yuKG"
   },
   "source": [
    "Plot images in a sample batch of data."
   ]
  },
  {
   "cell_type": "code",
   "execution_count": 14,
   "metadata": {
    "id": "ZRUpyKEryuKG"
   },
   "outputs": [],
   "source": [
    "def show_batch(dl):\n",
    "    for images, labels in dl:\n",
    "        fig, ax = plt.subplots(figsize=(10,10))\n",
    "        ax.set_xticks([]); ax.set_yticks([])\n",
    "        ax.imshow(make_grid(images, 8).permute(1, 2, 0), cmap='Greys_r')\n",
    "        break"
   ]
  },
  {
   "cell_type": "code",
   "execution_count": 15,
   "metadata": {
    "id": "fg0muQ6jyuKH"
   },
   "outputs": [
    {
     "name": "stderr",
     "output_type": "stream",
     "text": [
      "Clipping input data to the valid range for imshow with RGB data ([0..1] for floats or [0..255] for integers).\n"
     ]
    },
    {
     "data": {
      "image/png": "[encoded data removed]",
      "text/plain": [
       "<Figure size 720x720 with 1 Axes>"
      ]
     },
     "metadata": {},
     "output_type": "display_data"
    }
   ],
   "source": [
    "show_batch(train_dl)"
   ]
  },
  {
   "cell_type": "markdown",
   "metadata": {
    "id": "PA4syzZ0yuKH"
   },
   "source": [
    "## Building the Model"
   ]
  },
  {
   "cell_type": "markdown",
   "metadata": {
    "id": "n6tp2iP8yuKH"
   },
   "source": [
    "Create your model by defining the network architecture in the `ImageClassifierNet` class.  \n",
    "**NOTE: The number of parameters in your network must be $\\leq$ 100,000.**"
   ]
  },
  {
   "cell_type": "code",
   "execution_count": 16,
   "metadata": {
    "id": "neHUVjlyyuKH"
   },
   "outputs": [],
   "source": [
    "# Import the libraries\n",
    "import torch.nn as nn\n",
    "import torch.nn.functional as F\n",
    "from torchinfo import summary"
   ]
  },
  {
   "cell_type": "code",
   "execution_count": 17,
   "metadata": {
    "id": "vy-ENg1LyuKH"
   },
   "outputs": [],
   "source": [
    "class ImageClassifierNet(nn.Module):\n",
    "    def __init__(self, n_channels=1):\n",
    "        super(ImageClassifierNet, self).__init__()\n",
    "        ######################\n",
    "        #   YOUR CODE HERE   #\n",
    "        ######################   \n",
    "           \n",
    "        self.layer1 = nn.Sequential(nn.Conv2d(in_channels=n_channels, out_channels=8, kernel_size=3, padding=1),nn.BatchNorm2d(8),\n",
    "            nn.ReLU(),\n",
    "            nn.MaxPool2d(kernel_size=2, stride=2))\n",
    "        \n",
    "        self.layer2 = nn.Sequential(nn.Conv2d(in_channels=8, out_channels=16, kernel_size=3),nn.BatchNorm2d(16),nn.ReLU(),\n",
    "            nn.MaxPool2d(2))\n",
    "        \n",
    "        self.fc1 = nn.Linear(in_features=16*6*6, out_features=128)\n",
    "        self.drop1 = nn.Dropout(p=0.1)\n",
    "        \n",
    "        self.fc2 = nn.Linear(in_features=128, out_features=64)\n",
    "        self.drop2 = nn.Dropout(p=0.1)\n",
    "        self.fc3 = nn.Linear(in_features=64, out_features=10)\n",
    "        \n",
    "    def forward(self, X):\n",
    "        x = self.layer1(X)\n",
    "        x = self.layer2(x)\n",
    "        x = x.view(x.size(0), -1)\n",
    "        x = self.fc1(x)\n",
    "        x = self.drop1(x)\n",
    "        x = self.fc2(x)\n",
    "        x = self.drop2(x)\n",
    "        x = self.fc3(x)\n",
    "        \n",
    "        return x"
   ]
  },
  {
   "cell_type": "code",
   "execution_count": 18,
   "metadata": {
    "id": "jfWFN9TFyuKH"
   },
   "outputs": [],
   "source": [
    "model = ImageClassifierNet()"
   ]
  },
  {
   "cell_type": "markdown",
   "metadata": {
    "id": "8tU88zUSyuKH"
   },
   "source": [
    "The following code block prints your network architecture. It also shows the total number of parameters in your network (see `Total params`).  \n",
    "\n",
    "**NOTE: The total number of parameters in your model should be <= 100,000.**"
   ]
  },
  {
   "cell_type": "code",
   "execution_count": 19,
   "metadata": {
    "id": "OeCRnkERyuKH"
   },
   "outputs": [
    {
     "name": "stderr",
     "output_type": "stream",
     "text": [
      "C:\\Users\\arya_\\anaconda3\\lib\\site-packages\\torchinfo\\torchinfo.py:477: UserWarning: TypedStorage is deprecated. It will be removed in the future and UntypedStorage will be the only storage class. This should only matter to you if you are using storages directly.  To access UntypedStorage directly, use tensor.untyped_storage() instead of tensor.storage()\n",
      "  action_fn=lambda data: sys.getsizeof(data.storage()),\n",
      "C:\\Users\\arya_\\anaconda3\\lib\\site-packages\\torch\\storage.py:665: UserWarning: TypedStorage is deprecated. It will be removed in the future and UntypedStorage will be the only storage class. This should only matter to you if you are using storages directly.  To access UntypedStorage directly, use tensor.untyped_storage() instead of tensor.storage()\n",
      "  return super().__sizeof__() + self.nbytes()\n"
     ]
    },
    {
     "data": {
      "text/plain": [
       "==========================================================================================\n",
       "Layer (type:depth-idx)                   Output Shape              Param #\n",
       "==========================================================================================\n",
       "ImageClassifierNet                       [64, 10]                  --\n",
       "├─Sequential: 1-1                        [64, 8, 14, 14]           --\n",
       "│    └─Conv2d: 2-1                       [64, 8, 28, 28]           80\n",
       "│    └─BatchNorm2d: 2-2                  [64, 8, 28, 28]           16\n",
       "│    └─ReLU: 2-3                         [64, 8, 28, 28]           --\n",
       "│    └─MaxPool2d: 2-4                    [64, 8, 14, 14]           --\n",
       "├─Sequential: 1-2                        [64, 16, 6, 6]            --\n",
       "│    └─Conv2d: 2-5                       [64, 16, 12, 12]          1,168\n",
       "│    └─BatchNorm2d: 2-6                  [64, 16, 12, 12]          32\n",
       "│    └─ReLU: 2-7                         [64, 16, 12, 12]          --\n",
       "│    └─MaxPool2d: 2-8                    [64, 16, 6, 6]            --\n",
       "├─Linear: 1-3                            [64, 128]                 73,856\n",
       "├─Dropout: 1-4                           [64, 128]                 --\n",
       "├─Linear: 1-5                            [64, 64]                  8,256\n",
       "├─Dropout: 1-6                           [64, 64]                  --\n",
       "├─Linear: 1-7                            [64, 10]                  650\n",
       "==========================================================================================\n",
       "Total params: 84,058\n",
       "Trainable params: 84,058\n",
       "Non-trainable params: 0\n",
       "Total mult-adds (M): 20.08\n",
       "==========================================================================================\n",
       "Input size (MB): 0.20\n",
       "Forward/backward pass size (MB): 8.89\n",
       "Params size (MB): 0.34\n",
       "Estimated Total Size (MB): 9.42\n",
       "=========================================================================================="
      ]
     },
     "execution_count": 19,
     "metadata": {},
     "output_type": "execute_result"
    }
   ],
   "source": [
    "summary(model, input_size=(batch_size, 1, 28, 28))"
   ]
  },
  {
   "cell_type": "markdown",
   "metadata": {
    "id": "3GPSVM59uEea"
   },
   "source": [
    "## Check Model Requirements status\n",
    "\n",
    "The code block below is to check if your model meets the requirements specefied \n",
    "\n",
    "Run the cell to check the status of your model"
   ]
  },
  {
   "cell_type": "code",
   "execution_count": 20,
   "metadata": {
    "id": "ZdRVnd7BuEDl"
   },
   "outputs": [
    {
     "name": "stdout",
     "output_type": "stream",
     "text": [
      "<class 'torch.nn.modules.linear.Linear'>\n",
      "The Network looks good\n"
     ]
    }
   ],
   "source": [
    "def check_model(model):\n",
    "  first_layer = list(model.children())[0]\n",
    "  last_layer  = list(model.children())[-1]\n",
    "  num_params = sum(p.numel() for p in model.parameters())\n",
    "  has_conv1d = False\n",
    "  has_maxpool2d = False\n",
    "  first_layer_status= False\n",
    "  last_layer_status = False\n",
    "\n",
    "  if isinstance(first_layer, nn.Sequential):\n",
    "        if isinstance(first_layer[0], nn.Conv2d) and first_layer[0].in_channels == 1:\n",
    "          first_layer_status= True\n",
    "  else: \n",
    "    if isinstance(first_layer, nn.Conv2d) and first_layer.in_channels == 1:\n",
    "      first_layer_status= True\n",
    "\n",
    "  if isinstance(last_layer, nn.Sequential):\n",
    "    if isinstance(last_layer[-1], nn.Linear) and last_layer[-1].out_features == 10:\n",
    "      last_layer_status = True\n",
    "  else:\n",
    "    print(type(last_layer))\n",
    "    if isinstance(last_layer, nn.Linear) and last_layer.out_features == 10:\n",
    "      last_layer_status = True\n",
    "\n",
    "  for layer in model.modules():\n",
    "    if isinstance(layer, nn.Conv1d):\n",
    "        has_conv1d = True\n",
    "    if isinstance(layer, nn.MaxPool2d):\n",
    "        has_maxpool2d = True\n",
    "  flag = False\n",
    "  if first_layer_status == False:\n",
    "    print(\"The very first parameter of the first layer is not 1 nn.Conv2d(1, ....)\")\n",
    "    flag = True\n",
    "  if last_layer_status == False:\n",
    "    print(\"The very last parameter of the last layer is not 10 nn.Linear(..., 10)\")\n",
    "    flag = True\n",
    "  if has_conv1d == True:\n",
    "    print(\"Using nn.Conv1d, which should not happen\")\n",
    "    flag = True\n",
    "  if has_maxpool2d == False:\n",
    "    print(\"No nn.MaxPool2d\")\n",
    "    flag = True\n",
    "  if num_params > 100000:\n",
    "    print(\"Parameters > 100000, please make the network less complex to recieve full grade\")\n",
    "  \n",
    "  if flag == False:\n",
    "    print(\"The Network looks good\") \n",
    "\n",
    "check_model(model)"
   ]
  },
  {
   "cell_type": "markdown",
   "metadata": {
    "id": "nyrnbD-JyuKH"
   },
   "source": [
    "## Enable training on a GPU"
   ]
  },
  {
   "cell_type": "markdown",
   "metadata": {
    "id": "-hijq-mSyuKH"
   },
   "source": [
    "**NOTE:** This section is necessary if you're training your model on a GPU."
   ]
  },
  {
   "cell_type": "code",
   "execution_count": 21,
   "metadata": {
    "id": "3ag3cLTDyuKI"
   },
   "outputs": [],
   "source": [
    "def get_default_device():\n",
    "    \"\"\"Use GPU if available, else CPU\"\"\"\n",
    "    if torch.cuda.is_available():\n",
    "        return torch.device('cuda')\n",
    "    else:\n",
    "        return torch.device('cpu')\n",
    "\n",
    "def to_device(data, device):\n",
    "    \"\"\"Move tensor(s) to chosen device\"\"\"\n",
    "    if isinstance(data, (list,tuple)):\n",
    "        return [to_device(x, device) for x in data]\n",
    "    return data.to(device, non_blocking=True)\n",
    "\n",
    "class DeviceDataLoader():\n",
    "    \"\"\"Wrap a dataloader to move data to a device\"\"\"\n",
    "    def __init__(self, dl, device):\n",
    "        self.dl = dl\n",
    "        self.device = device\n",
    "    \n",
    "    def __iter__(self):\n",
    "        \"\"\"Yield a batch of data after moving it to device\"\"\"\n",
    "        for b in self.dl:\n",
    "            yield to_device(b, self.device)\n",
    "    \n",
    "    def __len__(self):\n",
    "        \"\"\"Number of batches\"\"\"\n",
    "        return len(self.dl)"
   ]
  },
  {
   "cell_type": "code",
   "execution_count": 22,
   "metadata": {
    "id": "v8SDHmBkyuKI"
   },
   "outputs": [
    {
     "data": {
      "text/plain": [
       "ImageClassifierNet(\n",
       "  (layer1): Sequential(\n",
       "    (0): Conv2d(1, 8, kernel_size=(3, 3), stride=(1, 1), padding=(1, 1))\n",
       "    (1): BatchNorm2d(8, eps=1e-05, momentum=0.1, affine=True, track_running_stats=True)\n",
       "    (2): ReLU()\n",
       "    (3): MaxPool2d(kernel_size=2, stride=2, padding=0, dilation=1, ceil_mode=False)\n",
       "  )\n",
       "  (layer2): Sequential(\n",
       "    (0): Conv2d(8, 16, kernel_size=(3, 3), stride=(1, 1))\n",
       "    (1): BatchNorm2d(16, eps=1e-05, momentum=0.1, affine=True, track_running_stats=True)\n",
       "    (2): ReLU()\n",
       "    (3): MaxPool2d(kernel_size=2, stride=2, padding=0, dilation=1, ceil_mode=False)\n",
       "  )\n",
       "  (fc1): Linear(in_features=576, out_features=128, bias=True)\n",
       "  (drop1): Dropout(p=0.1, inplace=False)\n",
       "  (fc2): Linear(in_features=128, out_features=64, bias=True)\n",
       "  (drop2): Dropout(p=0.1, inplace=False)\n",
       "  (fc3): Linear(in_features=64, out_features=10, bias=True)\n",
       ")"
      ]
     },
     "execution_count": 22,
     "metadata": {},
     "output_type": "execute_result"
    }
   ],
   "source": [
    "device = get_default_device()\n",
    "\n",
    "train_dl = DeviceDataLoader(train_dl, device)\n",
    "val_dl = DeviceDataLoader(val_dl, device)\n",
    "\n",
    "to_device(model, device)"
   ]
  },
  {
   "cell_type": "markdown",
   "metadata": {
    "id": "NUpkpFcoyuKI"
   },
   "source": [
    "## Train the model"
   ]
  },
  {
   "cell_type": "markdown",
   "metadata": {
    "id": "2_wGb9mcyuKI"
   },
   "source": [
    "Complete the `train_model` function to train your model on a dataset. Tune your network architecture and hyperparameters on a validation set."
   ]
  },
  {
   "cell_type": "code",
   "execution_count": 23,
   "metadata": {
    "id": "smWOXIi6yuKI"
   },
   "outputs": [],
   "source": [
    "def train_model(n_epochs, model, train_dl, val_dl, loss_fn, opt_fn, lr):\n",
    "    \"\"\"\n",
    "    Trains the model on a dataset.\n",
    "    \n",
    "    Args:\n",
    "        n_epochs: number of epochs\n",
    "        model: ImageClassifierNet object\n",
    "        train_dl: training dataloader\n",
    "        val_dl: validation dataloader\n",
    "        loss_fn: the loss function\n",
    "        opt_fn: the optimizer\n",
    "        lr: learning rate\n",
    "    \n",
    "    Returns:\n",
    "        The trained model. \n",
    "        A tuple of (model, train_losses, val_losses, train_accuracies, val_accuracies)\n",
    "    \"\"\"\n",
    "    # Record these values the end of each epoch\n",
    "    train_losses, val_losses, train_accuracies, val_accuracies = [], [], [], []\n",
    "    \n",
    "    loss_list = []\n",
    "    iteration_list = []\n",
    "    accuracy_list = []\n",
    "    \n",
    "    # Lists for knowing classwise accuracy\n",
    "    predictions_list = []\n",
    "    labels_list = []\n",
    "    count = 0\n",
    "    # Change learning rate\n",
    "    for g in opt_fn.param_groups:\n",
    "        g['lr'] = lr\n",
    "      \n",
    "    for epoch in range(n_epochs):\n",
    "        model.train()  # Set the model to training mode\n",
    "        train_loss, train_accuracy = 0.0, 0.0  # Track the training loss and accuracy for this epoch\n",
    "        correct = 0.0 \n",
    "        total = 0.0\n",
    "        for inputs, labels in train_dl:\n",
    "            images, labels = inputs.to(device), labels.to(device) #move to GPU or CPU\n",
    "            \n",
    "            outputs = model(images)  # forward pass\n",
    "            loss = loss_fn(outputs, labels)  #get loss\n",
    "            opt_fn.zero_grad() \n",
    "            loss.backward()  #backward pass\n",
    "            opt_fn.step()  # update  param\n",
    "            train_loss += loss.item() * batch_size  #track loss\n",
    "            _, preds = torch.max(outputs.data, 1)  \n",
    "            total += labels.size(0)\n",
    "            correct += (preds == labels).sum().item()\n",
    "            #train_accuracy += torch.sum(preds == labels.data)  # Track the total number of correct predictions\n",
    "\n",
    "        # compute the average loss and accuracy for this epoch\n",
    "        train_loss = train_loss\n",
    "        train_accuracy = 100 * correct / total\n",
    "\n",
    "        # Set the model to evaluation mode and compute the validation loss and accuracy\n",
    "        model.eval()\n",
    "        val_loss, val_accuracy = 0.0, 0.0\n",
    "        val_total , val_correct = 0.0 , 0.0\n",
    "        if val_dl:\n",
    "            with torch.no_grad():\n",
    "                for inputs, labels in val_dl:\n",
    "                    images, labels = inputs.to(device), labels.to(device)\n",
    "                    outputs = model(inputs)\n",
    "                    loss = loss_fn(outputs, labels)\n",
    "                    val_loss += loss.item() * batch_size\n",
    "                    _, preds = torch.max(outputs, 1)\n",
    "\n",
    "                    val_total += labels.size(0)\n",
    "                    val_correct += (preds == labels).sum().item()\n",
    "            val_loss = val_loss\n",
    "            if val_total != 0:\n",
    "                val_accuracy = 100 * val_correct / val_total\n",
    "            else:\n",
    "                val_accuracy = None\n",
    "        else:\n",
    "            val_accuracy = None\n",
    "\n",
    "        # record the loss and accuracy for this epoch\n",
    "        train_losses.append(train_loss)\n",
    "        val_losses.append(val_loss)\n",
    "        train_accuracies.append(train_accuracy)\n",
    "        val_accuracies.append(val_accuracy)\n",
    "\n",
    "        # Print progress\n",
    "        if val_accuracy is not None:\n",
    "            print(\"Epoch {}/{}, train_loss: {:.4f}, val_loss: {:.4f}, train_accuracy: {:.4f}, val_accuracy: {:.4f}\"\n",
    "                  .format(epoch+1, n_epochs, train_loss, val_loss, train_accuracy, val_accuracy))\n",
    "        else:\n",
    "            print(\"Epoch {}/{}, train_loss: {:.4f}, train_accuracy: {:.4f}\"\n",
    "                  .format(epoch+1, n_epochs, train_loss, train_accuracy))\n",
    "    \n",
    "    return model, train_losses, val_losses, train_accuracies, val_accuracies\n"
   ]
  },
  {
   "cell_type": "code",
   "execution_count": 24,
   "metadata": {
    "id": "WLl883iGyuKI"
   },
   "outputs": [],
   "source": [
    "######################\n",
    "#   YOUR CODE BELOW  #\n",
    "######################\n",
    "import torch.optim as optim\n",
    "from torch.optim import SGD\n",
    "num_epochs = 10 # Max number of training epochs\n",
    "loss_fn = nn.CrossEntropyLoss() # Define the loss function\n",
    "lr = 0.0001 # Set the learning rate\n",
    "#opt_fn = optim.SGD(model.parameters(), lr=lr)  # Select an optimizer function\n",
    "opt_fn = torch.optim.Adam(model.parameters(), lr=lr) # Select an optimizer function\n"
   ]
  },
  {
   "cell_type": "code",
   "execution_count": 25,
   "metadata": {
    "id": "UtSwd0s4yuKI"
   },
   "outputs": [
    {
     "name": "stdout",
     "output_type": "stream",
     "text": [
      "Epoch 1/10, train_loss: 30926.7194, val_loss: 12481.6068, train_accuracy: 72.9972, val_accuracy: 81.0167\n",
      "Epoch 2/10, train_loss: 17382.7508, val_loss: 10437.6591, train_accuracy: 82.7056, val_accuracy: 84.4708\n",
      "Epoch 3/10, train_loss: 14961.0210, val_loss: 9361.2694, train_accuracy: 85.2306, val_accuracy: 86.1208\n",
      "Epoch 4/10, train_loss: 13715.2664, val_loss: 8810.9904, train_accuracy: 86.6583, val_accuracy: 86.9417\n",
      "Epoch 5/10, train_loss: 12864.6839, val_loss: 8529.0573, train_accuracy: 87.3472, val_accuracy: 87.3125\n",
      "Epoch 6/10, train_loss: 12288.9417, val_loss: 8444.2737, train_accuracy: 88.1389, val_accuracy: 87.5333\n",
      "Epoch 7/10, train_loss: 11808.3588, val_loss: 8142.9197, train_accuracy: 88.3667, val_accuracy: 87.9750\n",
      "Epoch 8/10, train_loss: 11470.3335, val_loss: 8126.8042, train_accuracy: 88.8944, val_accuracy: 88.0375\n",
      "Epoch 9/10, train_loss: 11109.9030, val_loss: 8025.6207, train_accuracy: 89.1833, val_accuracy: 87.9875\n",
      "Epoch 10/10, train_loss: 10794.1178, val_loss: 7796.1708, train_accuracy: 89.5917, val_accuracy: 88.4583\n"
     ]
    }
   ],
   "source": [
    "history = train_model(num_epochs, model, train_dl, val_dl, loss_fn, opt_fn, lr)\n",
    "model, train_losses, val_losses, train_accuracies, val_accuracies = history"
   ]
  },
  {
   "cell_type": "markdown",
   "metadata": {
    "id": "83RGjj7MyuKJ"
   },
   "source": [
    "## Plot loss and accuracy\n",
    "\n",
    "Use the code blocks below to check if the model's accuracy increases and the model's loss values decrease throughout the training epochs. If you do not see the expected pattern, you need to go back and make sure the model's training stage is done correctly."
   ]
  },
  {
   "cell_type": "code",
   "execution_count": null,
   "metadata": {
    "id": "fRMb23OVyuKJ"
   },
   "outputs": [],
   "source": [
    "def plot_accuracy(train_accuracies, val_accuracies):\n",
    "    \"\"\"Plot accuracies\"\"\"\n",
    "    plt.plot(train_accuracies, \"-x\")\n",
    "    plt.plot(val_accuracies, \"-o\")\n",
    "    plt.xlabel(\"Epoch\")\n",
    "    plt.ylabel(\"Accuracy\")\n",
    "    plt.legend([\"Training\", \"Validation\"])\n",
    "    plt.title(\"Accuracy vs. No. of epochs\")"
   ]
  },
  {
   "cell_type": "code",
   "execution_count": null,
   "metadata": {
    "id": "KrSNfm-6yuKJ"
   },
   "outputs": [],
   "source": [
    "plot_accuracy(train_accuracies, val_accuracies)"
   ]
  },
  {
   "cell_type": "code",
   "execution_count": null,
   "metadata": {
    "id": "SO5QQZuKyuKJ"
   },
   "outputs": [],
   "source": [
    "def plot_losses(train_losses, val_losses):\n",
    "    \"\"\"Plot losses\"\"\"\n",
    "    plt.plot(train_losses, \"-x\")\n",
    "    plt.plot(val_losses, \"-o\")\n",
    "    plt.xlabel(\"Epoch\")\n",
    "    plt.ylabel(\"Loss\")\n",
    "    plt.legend([\"Training\", \"Validation\"])\n",
    "    plt.title(\"Loss vs. No. of Epochs\")"
   ]
  },
  {
   "cell_type": "code",
   "execution_count": null,
   "metadata": {
    "id": "4BW28SSYyuKJ"
   },
   "outputs": [],
   "source": [
    "plot_losses(train_losses, val_losses)"
   ]
  },
  {
   "cell_type": "markdown",
   "metadata": {
    "id": "Mcr9pxd8yuKJ"
   },
   "source": [
    "## Train a model on the entire dataset"
   ]
  },
  {
   "cell_type": "markdown",
   "metadata": {
    "id": "y_hq90Slx_BJ"
   },
   "source": [
    "We create a new model with the architecture based on hyperparameter tuning step and train it on the whole training data."
   ]
  },
  {
   "cell_type": "code",
   "execution_count": 30,
   "metadata": {
    "id": "xeytabxJ0ygs"
   },
   "outputs": [
    {
     "name": "stdout",
     "output_type": "stream",
     "text": [
      "odict_keys(['layer1.0.weight', 'layer1.0.bias', 'layer1.1.weight', 'layer1.1.bias', 'layer1.1.running_mean', 'layer1.1.running_var', 'layer1.1.num_batches_tracked', 'layer2.0.weight', 'layer2.0.bias', 'layer2.1.weight', 'layer2.1.bias', 'layer2.1.running_mean', 'layer2.1.running_var', 'layer2.1.num_batches_tracked', 'fc1.weight', 'fc1.bias', 'fc2.weight', 'fc2.bias', 'fc3.weight', 'fc3.bias'])\n"
     ]
    }
   ],
   "source": [
    "#new_model = ImageClassifierNet()\n",
    "\n",
    "torch.save(model.state_dict(), 'model.pth')\n",
    "saved_model = torch.load('model.pth')\n",
    "print(saved_model.keys())\n",
    "# Create a new instance of the model\n",
    "new_model = ImageClassifierNet()\n",
    "\n",
    "# Update the hyperparameters\n",
    "new_model.layer1[0].weight.data = saved_model['layer1.0.weight']\n",
    "new_model.layer1[0].bias.data = saved_model['layer1.0.bias']\n",
    "new_model.layer1[1].weight.data = saved_model['layer1.1.weight']\n",
    "new_model.layer1[1].bias.data = saved_model['layer1.1.bias']\n",
    "new_model.layer1[1].running_mean.data = saved_model['layer1.1.running_mean']\n",
    "new_model.layer1[1].running_var.data = saved_model['layer1.1.running_var']\n",
    "\n",
    "new_model.layer2[0].weight.data = saved_model['layer2.0.weight']\n",
    "new_model.layer2[0].bias.data = saved_model['layer2.0.bias']\n",
    "new_model.layer2[1].weight.data = saved_model['layer2.1.weight']\n",
    "new_model.layer2[1].bias.data = saved_model['layer2.1.bias']\n",
    "new_model.layer2[1].running_mean.data = saved_model['layer2.1.running_mean']\n",
    "new_model.layer2[1].running_var.data = saved_model['layer2.1.running_var']\n",
    "\n",
    "new_model.fc1.weight.data = saved_model['fc1.weight']\n",
    "new_model.fc1.bias.data = saved_model['fc1.bias']\n",
    "new_model.fc2.weight.data = saved_model['fc2.weight']\n",
    "new_model.fc2.bias.data = saved_model['fc2.bias']\n",
    "new_model.fc3.weight.data = saved_model['fc3.weight']\n",
    "new_model.fc3.bias.data = saved_model['fc3.bias']"
   ]
  },
  {
   "cell_type": "markdown",
   "metadata": {
    "id": "tXDRhr2L_wUq"
   },
   "source": [
    "**NOTE:** The next cell is necessary if you're training your new_model on a GPU."
   ]
  },
  {
   "cell_type": "code",
   "execution_count": 31,
   "metadata": {
    "id": "kr4-9BUD_wUq"
   },
   "outputs": [
    {
     "data": {
      "text/plain": [
       "ImageClassifierNet(\n",
       "  (layer1): Sequential(\n",
       "    (0): Conv2d(1, 8, kernel_size=(3, 3), stride=(1, 1), padding=(1, 1))\n",
       "    (1): BatchNorm2d(8, eps=1e-05, momentum=0.1, affine=True, track_running_stats=True)\n",
       "    (2): ReLU()\n",
       "    (3): MaxPool2d(kernel_size=2, stride=2, padding=0, dilation=1, ceil_mode=False)\n",
       "  )\n",
       "  (layer2): Sequential(\n",
       "    (0): Conv2d(8, 16, kernel_size=(3, 3), stride=(1, 1))\n",
       "    (1): BatchNorm2d(16, eps=1e-05, momentum=0.1, affine=True, track_running_stats=True)\n",
       "    (2): ReLU()\n",
       "    (3): MaxPool2d(kernel_size=2, stride=2, padding=0, dilation=1, ceil_mode=False)\n",
       "  )\n",
       "  (fc1): Linear(in_features=576, out_features=128, bias=True)\n",
       "  (drop1): Dropout(p=0.1, inplace=False)\n",
       "  (fc2): Linear(in_features=128, out_features=64, bias=True)\n",
       "  (drop2): Dropout(p=0.1, inplace=False)\n",
       "  (fc3): Linear(in_features=64, out_features=10, bias=True)\n",
       ")"
      ]
     },
     "execution_count": 31,
     "metadata": {},
     "output_type": "execute_result"
    }
   ],
   "source": [
    "to_device(new_model, device)"
   ]
  },
  {
   "cell_type": "code",
   "execution_count": 32,
   "metadata": {
    "id": "1vWfme9Exsib"
   },
   "outputs": [],
   "source": [
    "indices, _ = split_indices(len(dataset), 0, rand_seed)\n",
    "\n",
    "sampler = SubsetRandomSampler(indices)\n",
    "dl = DataLoader(dataset, batch_size, sampler=sampler)\n",
    "dl = DeviceDataLoader(dl, device)"
   ]
  },
  {
   "cell_type": "code",
   "execution_count": 33,
   "metadata": {
    "id": "oZxLGw9myuKJ"
   },
   "outputs": [
    {
     "name": "stdout",
     "output_type": "stream",
     "text": [
      "Epoch 1/20, train_loss: 18551.9754, train_accuracy: 89.1117\n",
      "Epoch 2/20, train_loss: 18563.7283, train_accuracy: 89.0583\n",
      "Epoch 3/20, train_loss: 18539.2102, train_accuracy: 89.2450\n",
      "Epoch 4/20, train_loss: 18547.0433, train_accuracy: 89.1117\n",
      "Epoch 5/20, train_loss: 18597.5750, train_accuracy: 89.1733\n",
      "Epoch 6/20, train_loss: 18570.5231, train_accuracy: 89.0333\n",
      "Epoch 7/20, train_loss: 18508.0249, train_accuracy: 89.1883\n",
      "Epoch 8/20, train_loss: 18588.6492, train_accuracy: 89.1150\n",
      "Epoch 9/20, train_loss: 18590.7789, train_accuracy: 89.1567\n",
      "Epoch 10/20, train_loss: 18510.5884, train_accuracy: 89.1233\n",
      "Epoch 11/20, train_loss: 18547.0466, train_accuracy: 89.2050\n",
      "Epoch 12/20, train_loss: 18558.4156, train_accuracy: 89.1050\n",
      "Epoch 13/20, train_loss: 18515.8016, train_accuracy: 89.1667\n",
      "Epoch 14/20, train_loss: 18540.9467, train_accuracy: 89.1350\n",
      "Epoch 15/20, train_loss: 18534.6309, train_accuracy: 89.1967\n",
      "Epoch 16/20, train_loss: 18549.1124, train_accuracy: 89.1617\n",
      "Epoch 17/20, train_loss: 18569.4151, train_accuracy: 89.2017\n",
      "Epoch 18/20, train_loss: 18566.5554, train_accuracy: 89.1100\n",
      "Epoch 19/20, train_loss: 18519.9673, train_accuracy: 89.0983\n",
      "Epoch 20/20, train_loss: 18558.1763, train_accuracy: 89.1533\n"
     ]
    }
   ],
   "source": [
    "######################\n",
    "#   YOUR CODE BELOW  #\n",
    "######################\n",
    "num_epochs = 20 # Max number of training epochs\n",
    "lr = 0.0001 # Set the learning rate\n",
    "history = train_model(num_epochs, new_model, dl, [], loss_fn, opt_fn, lr)\n",
    "new_model = history[0]"
   ]
  },
  {
   "cell_type": "markdown",
   "metadata": {
    "id": "fhWY1imsyuKK"
   },
   "source": [
    "## Check Predictions"
   ]
  },
  {
   "cell_type": "code",
   "execution_count": 34,
   "metadata": {
    "id": "nT4lsa5qyuKK"
   },
   "outputs": [],
   "source": [
    "def view_prediction(img, label, probs, classes):\n",
    "    \"\"\"\n",
    "    Visualize predictions.\n",
    "    \"\"\"\n",
    "    probs = probs.cpu().numpy().squeeze()\n",
    "\n",
    "    fig, (ax1, ax2) = plt.subplots(figsize=(8,15), ncols=2)\n",
    "    ax1.imshow(img.resize_(1, 28, 28).cpu().numpy().squeeze(), cmap='Greys_r')\n",
    "    ax1.axis('off')\n",
    "    ax1.set_title('Actual: {}'.format(classes[label]))\n",
    "    ax2.barh(np.arange(10), probs)\n",
    "    ax2.set_aspect(0.1)\n",
    "    ax2.set_yticks(np.arange(10))\n",
    "    ax2.set_yticklabels(classes, size='small');\n",
    "    ax2.set_title('Predicted: probabilities')\n",
    "    ax2.set_xlim(0, 1.1)\n",
    "\n",
    "    plt.tight_layout()"
   ]
  },
  {
   "cell_type": "code",
   "execution_count": 51,
   "metadata": {
    "id": "VWQYxhFTyuKK"
   },
   "outputs": [
    {
     "data": {
      "image/png": "[encoded data removed]",
      "text/plain": [
       "<Figure size 576x1080 with 2 Axes>"
      ]
     },
     "metadata": {
      "needs_background": "light"
     },
     "output_type": "display_data"
    }
   ],
   "source": [
    "# Calculate the class probabilites (log softmax) for img\n",
    "images = iter(dl)\n",
    "for imgs, labels in images:\n",
    "    with torch.no_grad():\n",
    "        new_model.eval()\n",
    "        # Calculate the class probabilites (log softmax) for img\n",
    "        probs = torch.nn.functional.softmax(new_model(imgs[0].unsqueeze(0)), dim=1)\n",
    "        # Plot the image and probabilites\n",
    "        view_prediction(imgs[0], labels[0], probs, dataset.classes)\n",
    "    break"
   ]
  },
  {
   "cell_type": "markdown",
   "metadata": {
    "id": "BzNYS3LRyuKK"
   },
   "source": [
    "## Save the model"
   ]
  },
  {
   "cell_type": "code",
   "execution_count": 52,
   "metadata": {
    "id": "jxiqJXORyuKK"
   },
   "outputs": [],
   "source": [
    "torch.save(new_model, 'new_model')"
   ]
  },
  {
   "cell_type": "markdown",
   "metadata": {
    "id": "gA5cuahMyuKK"
   },
   "source": [
    "## Compute accuracy on the test set"
   ]
  },
  {
   "cell_type": "markdown",
   "metadata": {
    "id": "EluGZMKE2i0U"
   },
   "source": [
    "Here we load the test data pickle file provided.\n",
    "\n",
    "You need to provide the path for the test_data pickle file and run the cells."
   ]
  },
  {
   "cell_type": "code",
   "execution_count": 53,
   "metadata": {
    "id": "9L6E5oAigIln"
   },
   "outputs": [],
   "source": [
    "import pickle"
   ]
  },
  {
   "cell_type": "code",
   "execution_count": 54,
   "metadata": {
    "id": "nR1CIHF4gPZB"
   },
   "outputs": [],
   "source": [
    "######################\n",
    "#  YOUR Answer BELOW #\n",
    "######################\n",
    "test_dataset_file_path = \"test_data.pickle\"\n",
    "\n",
    "with open(test_dataset_file_path, 'rb') as f:\n",
    "    test_dataset = pickle.load(f)"
   ]
  },
  {
   "cell_type": "code",
   "execution_count": 55,
   "metadata": {
    "id": "OQxtt0J-yuKK"
   },
   "outputs": [],
   "source": [
    "test_dl = DataLoader(test_dataset, batch_size)\n",
    "test_dl = DeviceDataLoader(test_dl, device)"
   ]
  },
  {
   "cell_type": "code",
   "execution_count": 56,
   "metadata": {
    "id": "HZquvkV-yuKK"
   },
   "outputs": [],
   "source": [
    "def evaluate(model, test_dl):\n",
    "    with torch.no_grad():\n",
    "        model.eval()\n",
    "        total_test_dl = 0\n",
    "        preds, labels = [], []\n",
    "        for xb, yb in test_dl:\n",
    "            # Model output\n",
    "            y_pred = model(xb)\n",
    "            _, y_pred = torch.max(y_pred, dim=1)\n",
    "            preds.extend(y_pred)\n",
    "            labels.extend(yb)               \n",
    "            total_test_dl += len(yb)\n",
    "\n",
    "    preds, labels = torch.tensor(preds), torch.tensor(labels)\n",
    "    test_accuracy = torch.sum(preds == labels).item() / len(preds)\n",
    "    return test_accuracy"
   ]
  },
  {
   "cell_type": "code",
   "execution_count": 57,
   "metadata": {
    "id": "-XP-C6cHyuKK"
   },
   "outputs": [
    {
     "name": "stdout",
     "output_type": "stream",
     "text": [
      "Test Accuracy = 0.8752\n"
     ]
    }
   ],
   "source": [
    "print(\"Test Accuracy = {:.4f}\".format(evaluate(new_model, test_dl)))"
   ]
  },
  {
   "cell_type": "code",
   "execution_count": null,
   "metadata": {},
   "outputs": [],
   "source": []
  }
 ],
 "metadata": {
  "colab": {
   "provenance": [],
   "toc_visible": true
  },
  "kernelspec": {
   "display_name": "Python 3",
   "language": "python",
   "name": "python3"
  },
  "language_info": {
   "codemirror_mode": {
    "name": "ipython",
    "version": 3
   },
   "file_extension": ".py",
   "mimetype": "text/x-python",
   "name": "python",
   "nbconvert_exporter": "python",
   "pygments_lexer": "ipython3",
   "version": "3.8.8"
  }
 },
 "nbformat": 4,
 "nbformat_minor": 4
}
