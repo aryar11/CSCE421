{
 "cells": [
  {
   "cell_type": "markdown",
   "metadata": {},
   "source": [
    "## Final Project"
   ]
  },
  {
   "cell_type": "code",
   "execution_count": 1,
   "metadata": {},
   "outputs": [],
   "source": [
    "import os\n",
    "import sys\n",
    "import random\n",
    "\n",
    "import numpy as np\n",
    "import pandas as pd\n",
    "import matplotlib.pyplot as plt\n",
    "\n",
    "from sklearn.model_selection import train_test_split, cross_val_score, GridSearchCV\n",
    "from sklearn.metrics import accuracy_score, log_loss, confusion_matrix\n",
    "from sklearn.ensemble import GradientBoostingClassifier\n",
    "from sklearn.model_selection import train_test_split\n",
    "from sklearn.feature_selection import SelectFromModel\n",
    "from sklearn.preprocessing import StandardScaler, MinMaxScaler\n",
    "from sklearn.pipeline import Pipeline\n",
    "\n",
    "from keras.models import Sequential\n",
    "from keras.layers import Dense, Dropout, Activation, Flatten, Conv2D, MaxPooling2D"
   ]
  },
  {
   "cell_type": "markdown",
   "metadata": {},
   "source": [
    "Setting the random seed for reproducibility"
   ]
  },
  {
   "cell_type": "code",
   "execution_count": 2,
   "metadata": {},
   "outputs": [],
   "source": [
    "random.seed(42)\n",
    "np.random.seed(42)"
   ]
  },
  {
   "cell_type": "markdown",
   "metadata": {},
   "source": [
    "## Reading the Data"
   ]
  },
  {
   "cell_type": "markdown",
   "metadata": {},
   "source": [
    "Due to the large amount of records in the CSV files, we set low_memory=False to ensure that the data is read in correctly."
   ]
  },
  {
   "cell_type": "code",
   "execution_count": 3,
   "metadata": {},
   "outputs": [],
   "source": [
    "x_train_df = pd.read_csv(\"./data/train_x.csv\", low_memory=False)\n",
    "y_train_df = pd.read_csv(\"./data/train_y.csv\", low_memory=False)\n",
    "x_test_df = pd.read_csv(\"./data/test_x.csv\", low_memory=False)"
   ]
  },
  {
   "cell_type": "markdown",
   "metadata": {},
   "source": [
    "## Remove Unnecessary Columns / Features"
   ]
  },
  {
   "cell_type": "markdown",
   "metadata": {},
   "source": [
    "Here we want to remove any columns that are not necessary for our analysis. We will remove the following columns:\n",
    "\n",
    "-   `Unnamed: 0`\n",
    "-   `cellattributevalue`\n",
    "-   `celllabel`\n",
    "-   `labmeasurenamesystem`\n",
    "-   `labname`\n",
    "-   `labresult`\n",
    "\n",
    "We deem these columns unnecessary because they do not provide any useful information for our analysis or the sparse data will not be useful for our training."
   ]
  },
  {
   "cell_type": "code",
   "execution_count": 4,
   "metadata": {},
   "outputs": [],
   "source": [
    "new_x_train_df = x_train_df.drop(columns=[\"Unnamed: 0\", \"cellattributevalue\", \"celllabel\", \"labmeasurenamesystem\", \"labname\", \"labresult\"])\n",
    "new_x_test_df = x_test_df.drop(columns=[\"Unnamed: 0\", \"cellattributevalue\", \"celllabel\", \"labmeasurenamesystem\", \"labname\", \"labresult\"])\n",
    "new_y_train_df = y_train_df[\"hospitaldischargestatus\"]"
   ]
  },
  {
   "cell_type": "markdown",
   "metadata": {},
   "source": [
    "## Preprocessing"
   ]
  },
  {
   "cell_type": "code",
   "execution_count": 5,
   "metadata": {},
   "outputs": [],
   "source": [
    "new_x_train_df.sort_values(by=[\"patientunitstayid\"], inplace=True)\n",
    "new_x_test_df.sort_values(by=[\"patientunitstayid\"], inplace=True)"
   ]
  },
  {
   "cell_type": "code",
   "execution_count": 6,
   "metadata": {},
   "outputs": [],
   "source": [
    "new_x_train_df[\"age\"].replace(\"> 89\", 90, inplace=True)\n",
    "new_x_train_df[\"age\"] = new_x_train_df[\"age\"].astype(\"float64\")\n",
    "new_x_train_df[\"nursingchartvalue\"].replace(\"Unable to score due to medication\", np.nan, inplace=True)\n",
    "new_x_train_df[\"nursingchartvalue\"] = new_x_train_df[\"nursingchartvalue\"].astype(\"float64\")\n",
    "\n",
    "new_x_test_df[\"age\"].replace(\"> 89\", 90, inplace=True)\n",
    "new_x_test_df[\"age\"] = new_x_test_df[\"age\"].astype(\"float64\")\n",
    "new_x_test_df[\"nursingchartvalue\"].replace(\"Unable to score due to medication\", np.nan, inplace=True)\n",
    "new_x_test_df[\"nursingchartvalue\"] = new_x_test_df[\"nursingchartvalue\"].astype(\"float64\")"
   ]
  },
  {
   "cell_type": "code",
   "execution_count": 7,
   "metadata": {},
   "outputs": [],
   "source": [
    "def encode_data(train_df: pd.DataFrame, test_df: pd.DataFrame):\n",
    "    # Combine the training and test data\n",
    "    combined_df = pd.concat([train_df, test_df], axis=0)\n",
    "\n",
    "    numerical = combined_df.select_dtypes(include=[\"int64\", \"float64\"])\n",
    "    nonnumerical = combined_df.select_dtypes(exclude=[\"int64\", \"float64\"])\n",
    "    categorical = pd.get_dummies(nonnumerical)\n",
    "\n",
    "    # Split the combined data back into training and test data\n",
    "    n_train = len(train_df)\n",
    "    train_categorical = categorical.iloc[:n_train]\n",
    "    test_categorical = categorical.iloc[n_train:]\n",
    "\n",
    "    train_data = pd.concat([numerical[:n_train], train_categorical], axis=1)\n",
    "    test_data = pd.concat([numerical[n_train:], test_categorical], axis=1)\n",
    "\n",
    "    return train_data, test_data"
   ]
  },
  {
   "cell_type": "code",
   "execution_count": 8,
   "metadata": {},
   "outputs": [
    {
     "name": "stdout",
     "output_type": "stream",
     "text": [
      "(791936, 25)\n",
      "(225895, 25)\n"
     ]
    }
   ],
   "source": [
    "new_x_train_df, new_x_test_df = encode_data(new_x_train_df, new_x_test_df)\n",
    "\n",
    "print(new_x_train_df.shape)\n",
    "print(new_x_test_df.shape)"
   ]
  },
  {
   "cell_type": "code",
   "execution_count": 9,
   "metadata": {},
   "outputs": [],
   "source": [
    "nursing_chart_types = [col for col in new_x_train_df.columns if col.startswith(\"nursingchartcelltypevalname\")]\n",
    "for nursing_chart_type in nursing_chart_types:\n",
    "    new_x_train_df[nursing_chart_type] = new_x_train_df.apply(lambda row: row['nursingchartvalue'] if row[nursing_chart_type] == 1 else 0, axis=1)\n",
    "    new_x_test_df[nursing_chart_type] = new_x_test_df.apply(lambda row: row['nursingchartvalue'] if row[nursing_chart_type] == 1 else 0, axis=1)\n",
    "\n",
    "new_x_train_df.drop(columns=[\"nursingchartvalue\"], inplace=True)\n",
    "new_x_test_df.drop(columns=[\"nursingchartvalue\"], inplace=True)"
   ]
  },
  {
   "cell_type": "code",
   "execution_count": 10,
   "metadata": {},
   "outputs": [],
   "source": [
    "def aggregate_data(df: pd.DataFrame):\n",
    "    agg_dict = {\n",
    "        \"offset\": \"sum\",\n",
    "        \"admissionheight\": \"max\",\n",
    "        \"admissionweight\": \"max\",\n",
    "        \"age\": \"max\",\n",
    "        \"unitvisitnumber\": \"max\",\n",
    "        \"ethnicity_African American\": \"max\",\n",
    "        \"ethnicity_Asian\": \"max\",\n",
    "        \"ethnicity_Caucasian\": \"max\",\n",
    "        \"ethnicity_Hispanic\": \"max\",\n",
    "        \"ethnicity_Native American\": \"max\",\n",
    "        \"ethnicity_Other/Unknown\": \"max\",\n",
    "        \"gender_Female\": \"max\",\n",
    "        \"gender_Male\": \"max\",\n",
    "        \"nursingchartcelltypevalname_GCS Total\": lambda x: x[x != 0].mean(),\n",
    "        \"nursingchartcelltypevalname_Heart Rate\": lambda x: x[x != 0].mean(),\n",
    "        \"nursingchartcelltypevalname_Invasive BP Diastolic\": lambda x: x[x != 0].mean(),\n",
    "        \"nursingchartcelltypevalname_Invasive BP Mean\": lambda x: x[x != 0].mean(),\n",
    "        \"nursingchartcelltypevalname_Invasive BP Systolic\": lambda x: x[x != 0].mean(),\n",
    "        \"nursingchartcelltypevalname_Non-Invasive BP Diastolic\": lambda x: x[x != 0].mean(),\n",
    "        \"nursingchartcelltypevalname_Non-Invasive BP Mean\": lambda x: x[x != 0].mean(),\n",
    "        \"nursingchartcelltypevalname_Non-Invasive BP Systolic\": lambda x: x[x != 0].mean(),\n",
    "        \"nursingchartcelltypevalname_O2 Saturation\": lambda x: x[x != 0].mean(),\n",
    "        \"nursingchartcelltypevalname_Respiratory Rate\": lambda x: x[x != 0].mean(),\n",
    "    }\n",
    "    grouped_df = df.groupby(\"patientunitstayid\").agg(agg_dict)\n",
    "    grouped_df.reset_index(inplace=True)\n",
    "    return grouped_df"
   ]
  },
  {
   "cell_type": "code",
   "execution_count": 11,
   "metadata": {},
   "outputs": [],
   "source": [
    "new_x_train_df = aggregate_data(new_x_train_df)\n",
    "new_x_test_df = aggregate_data(new_x_test_df)"
   ]
  },
  {
   "cell_type": "code",
   "execution_count": 12,
   "metadata": {},
   "outputs": [
    {
     "name": "stderr",
     "output_type": "stream",
     "text": [
      "C:\\Users\\arya_\\anaconda3\\lib\\site-packages\\pandas\\core\\frame.py:4462: SettingWithCopyWarning: \n",
      "A value is trying to be set on a copy of a slice from a DataFrame\n",
      "\n",
      "See the caveats in the documentation: https://pandas.pydata.org/pandas-docs/stable/user_guide/indexing.html#returning-a-view-versus-a-copy\n",
      "  return super().fillna(\n"
     ]
    }
   ],
   "source": [
    "numerical = new_x_train_df.select_dtypes(include=[\"int64\", \"float64\"])\n",
    "numerical.fillna(0, inplace=True)\n",
    "new_x_train_df.update(numerical)\n",
    "\n",
    "numerical = new_x_test_df.select_dtypes(include=[\"int64\", \"float64\"])\n",
    "numerical.fillna(0, inplace=True)\n",
    "new_x_test_df.update(numerical)"
   ]
  },
  {
   "cell_type": "code",
   "execution_count": 13,
   "metadata": {},
   "outputs": [
    {
     "name": "stdout",
     "output_type": "stream",
     "text": [
      "(2016, 24)\n",
      "(2016,)\n"
     ]
    }
   ],
   "source": [
    "print(new_x_train_df.shape)\n",
    "print(new_y_train_df.shape)"
   ]
  },
  {
   "cell_type": "markdown",
   "metadata": {},
   "source": [
    "## Building Our Model"
   ]
  },
  {
   "cell_type": "markdown",
   "metadata": {},
   "source": [
    "Attempting GridSearch"
   ]
  },
  {
   "cell_type": "code",
   "execution_count": 14,
   "metadata": {},
   "outputs": [
    {
     "name": "stdout",
     "output_type": "stream",
     "text": [
      "Fitting 5 folds for each of 840 candidates, totalling 4200 fits\n"
     ]
    },
    {
     "name": "stderr",
     "output_type": "stream",
     "text": [
      "C:\\Users\\arya_\\anaconda3\\lib\\site-packages\\sklearn\\model_selection\\_search.py:918: UserWarning: One or more of the test scores are non-finite: [       nan 0.91666708 0.91666708 0.91666708        nan 0.91666708\n",
      " 0.91666708 0.91666708        nan 0.91666708 0.91666708 0.91666708\n",
      "        nan 0.91666708 0.91666708 0.91666708        nan 0.91666708\n",
      " 0.91666708 0.91666708        nan 0.91666708 0.91666708 0.91666708\n",
      "        nan 0.91666708 0.91666708 0.91666708        nan 0.91666708\n",
      " 0.91666708 0.91666708        nan 0.91666708 0.91666708 0.91666708\n",
      "        nan 0.91666708 0.91666708 0.91666708        nan 0.91666708\n",
      " 0.91666708 0.91666708        nan 0.91666708 0.91666708 0.91666708\n",
      "        nan 0.91666708 0.91666708 0.91666708        nan 0.91666708\n",
      " 0.91666708 0.91666708        nan 0.91666708 0.91666708 0.91666708\n",
      "        nan 0.91666708 0.91666708 0.91666708        nan 0.91666708\n",
      " 0.91666708 0.91666708        nan 0.91666708 0.91666708 0.91666708\n",
      "        nan 0.91666708 0.91666708 0.91666708        nan 0.91666708\n",
      " 0.91666708 0.91666708        nan 0.91666708 0.91666708 0.91666708\n",
      "        nan 0.91666708 0.91666708 0.91666708        nan 0.91666708\n",
      " 0.91666708 0.91666708        nan 0.91666708 0.91666708 0.91666708\n",
      "        nan 0.91666708 0.91666708 0.91666708        nan 0.91666708\n",
      " 0.91666708 0.91666708        nan 0.91666708 0.91666708 0.91666708\n",
      "        nan 0.91666708 0.91666708 0.91666708        nan 0.91666708\n",
      " 0.91666708 0.91666708        nan 0.91666708 0.91666708 0.91666708\n",
      "        nan 0.91666708 0.91716335 0.91567452        nan 0.91716335\n",
      " 0.91716335 0.9161708         nan 0.91666708 0.9161708  0.91666708\n",
      "        nan 0.91716335 0.91765963 0.91716335        nan 0.91666708\n",
      " 0.91716335 0.9161708         nan 0.91567452 0.91567452 0.91666708\n",
      "        nan 0.91765963 0.9161708  0.91716335        nan 0.9161708\n",
      " 0.91765963 0.91815591        nan 0.91666708 0.91765963 0.91666708\n",
      "        nan 0.91666708 0.91666708 0.91666708        nan 0.91368941\n",
      " 0.91666708 0.9117043         nan 0.91865219 0.91666708 0.91220057\n",
      "        nan 0.91468196 0.91567452 0.91418569        nan 0.91021546\n",
      " 0.91468196 0.91418569        nan 0.91765963 0.91716335 0.91716335\n",
      "        nan 0.91716335 0.91319313 0.90376385        nan 0.91666708\n",
      " 0.91666708 0.91368941        nan 0.9117043  0.91865219 0.91220057\n",
      "        nan 0.91865219 0.9161708  0.91567452        nan 0.91815591\n",
      " 0.91716335 0.91666708        nan 0.90426013 0.90128246 0.91468196\n",
      "        nan 0.90773407 0.91220057 0.90574896        nan 0.91517824\n",
      " 0.90922291 0.91418569        nan 0.91319313 0.91319313 0.9161708\n",
      "        nan 0.91716335 0.91914847 0.91964474        nan 0.90227502\n",
      " 0.90971919 0.90823035        nan 0.90971919 0.91468196 0.91021546\n",
      "        nan 0.91666708 0.91220057 0.9161708         nan 0.91666708\n",
      " 0.91517824 0.91865219        nan 0.92014102 0.91865096 0.91765963\n",
      "        nan 0.84619684 0.83329239 0.8045095         nan 0.82287055\n",
      " 0.85413483 0.82535194        nan 0.84768445 0.85909761 0.84024028\n",
      "        nan 0.87597106 0.86455544 0.83279611        nan 0.86009139\n",
      " 0.89334079 0.83825271        nan 0.81294499 0.82584822 0.84272167\n",
      "        nan 0.83130605 0.82435816 0.87249711        nan 0.86207651\n",
      " 0.85711373 0.83428494        nan 0.8630666  0.83527627 0.78167948\n",
      "        nan 0.84073778 0.86207651 0.85959266        nan 0.78465592\n",
      " 0.83874899 0.82485443        nan 0.82783087 0.83577009 0.81840036\n",
      "        nan 0.83726261 0.83725892 0.8407341         nan 0.85363732\n",
      " 0.85363732 0.84172911        nan 0.85016215 0.84619561 0.8198892\n",
      "        nan 0.82981476 0.78167948 0.7886286         nan 0.8263445\n",
      " 0.83874899 0.81542392        nan 0.81443137 0.83874899 0.8318011\n",
      "        nan 0.86505417 0.82336314 0.85115839        nan 0.87051323\n",
      " 0.874481   0.82386065        nan 0.8367651  0.82832838 0.84669066\n",
      "        nan 0.85115839 0.83874899 0.8069872         nan 0.85860133\n",
      " 0.86852689 0.84023782        nan 0.84470309 0.85363732 0.85760632\n",
      "        nan 0.87596983 0.88490406 0.87597106        nan 0.8318011\n",
      " 0.84321672 0.83875021        nan 0.84966833 0.84917082 0.84420804\n",
      "        nan 0.85115593 0.84470432 0.85909638        nan 0.84917082\n",
      " 0.83676265 0.85562121        nan 0.87348967 0.85314227 0.8789475\n",
      "        nan 0.81443014 0.7772093  0.76281969        nan 0.82733582\n",
      " 0.78911874 0.81045992        nan 0.7777068  0.81741026 0.77820185\n",
      "        nan 0.78018819 0.78961993 0.7687738         nan 0.79359015\n",
      " 0.80847603 0.81095988        nan 0.77969069 0.7603383  0.78465469\n",
      "        nan 0.78068447 0.76976636 0.80202565        nan 0.76182714\n",
      " 0.82088421 0.78515097        nan 0.82783087 0.7777068  0.79904675\n",
      "        nan 0.75884824 0.80748225 0.80301821        nan 0.8040083\n",
      " 0.79457902 0.77919441        nan 0.78217085 0.76976636 0.77026263\n",
      "        nan 0.81442891 0.82485443 0.8288222         nan 0.81195244\n",
      " 0.82733459 0.80648601        nan 0.8069872  0.79110754 0.81095374\n",
      "        nan 0.79507407 0.81244257 0.77224897        nan 0.80053559\n",
      " 0.78117829 0.78663981        nan 0.81840036 0.82435693 0.80996487\n",
      "        nan 0.78763113 0.78713363 0.81195121        nan 0.81691399\n",
      " 0.84619193 0.83527627        nan 0.81641648 0.78266958 0.84271921\n",
      "        nan 0.83874776 0.8099661  0.79557404        nan 0.8203867\n",
      " 0.82286564 0.78812741        nan 0.80301698 0.83179987 0.77919687\n",
      "        nan 0.8318011  0.82088175 0.82733214        nan 0.7980542\n",
      " 0.82683709 0.7935877         nan 0.81691399 0.79953935 0.81790286\n",
      "        nan 0.83875021 0.80946982 0.83031349        nan 0.78713608\n",
      " 0.81294253 0.7995418         nan 0.81641894 0.80004054 0.80152937\n",
      "        nan 0.79854925 0.78862492 0.79209763        nan 0.7772093\n",
      " 0.75785691 0.76678869        nan 0.78564848 0.77572292 0.79259637\n",
      "        nan 0.78316586 0.7985517  0.75884824        nan 0.78862\n",
      " 0.78217208 0.78614353        nan 0.80599219 0.76728374 0.75835196\n",
      "        nan 0.81095619 0.77125273 0.7727428         nan 0.76133086\n",
      " 0.77969069 0.7643073         nan 0.77423163 0.75785446 0.81294008\n",
      "        nan 0.77274157 0.77869813 0.7851522         nan 0.80946859\n",
      " 0.76877257 0.78465469        nan 0.80301698 0.80152814 0.78316586\n",
      "        nan 0.82187431 0.80152569 0.80847358        nan 0.7861423\n",
      " 0.79755546 0.82385942        nan 0.80748348 0.76877257 0.76132595\n",
      "        nan 0.79557281 0.79259391 0.75785569        nan 0.78266958\n",
      " 0.76281847 0.77323784        nan 0.77770803 0.78564725 0.81591897\n",
      "        nan 0.77075891 0.7861423  0.77671179        nan 0.75636685\n",
      " 0.83378621 0.78266835        nan 0.77026263 0.76579368 0.76182222\n",
      "        nan 0.77224775 0.80797976 0.82038548        nan 0.77323907\n",
      " 0.80549714 0.78167457        nan 0.82187431 0.82385942 0.78415719\n",
      "        nan 0.80649092 0.8536361  0.83924158        nan 0.81740781\n",
      " 0.80500332 0.78266958        nan 0.7772093  0.82137803 0.78018942\n",
      "        nan 0.79209886 0.77076014 0.80698474        nan 0.79705918\n",
      " 0.79855048 0.79755669        nan 0.81542147 0.79706041 0.81939169\n",
      "        nan 0.81492519 0.76628995 0.77770557        nan 0.77125396\n",
      " 0.75636562 0.76281601        nan 0.76083335 0.77423409 0.76678623\n",
      "        nan 0.77571923 0.78713363 0.7876299         nan 0.82187431\n",
      " 0.78663735 0.76778002        nan 0.75835074 0.76629241 0.82287055\n",
      "        nan 0.80103186 0.78961624 0.75735941        nan 0.81840159\n",
      " 0.80301698 0.7906088         nan 0.80202319 0.80152937 0.78118075\n",
      "        nan 0.79358892 0.7950753  0.78713363        nan 0.76778002\n",
      " 0.75983957 0.75884701        nan 0.78912365 0.7985517  0.77423163\n",
      "        nan 0.76827629 0.8377552  0.77968946        nan 0.82187308\n",
      " 0.79209763 0.79308773        nan 0.82931971 0.81790409 0.79606663\n",
      "        nan 0.76827507 0.77770189 0.77075646        nan 0.76331597\n",
      " 0.82187185 0.79557158        nan 0.78068079 0.7781994  0.79160013\n",
      "        nan 0.78812618 0.77968946 0.80896985        nan 0.80152569\n",
      " 0.82038179 0.8000344         nan 0.77820308 0.81740658 0.80003808\n",
      "        nan 0.78614353 0.77472914 0.77721421        nan 0.80499963\n",
      " 0.76728128 0.78217085        nan 0.83527381 0.78564356 0.76430484\n",
      "        nan 0.77969069 0.77075768 0.76926762        nan 0.76778002\n",
      " 0.81889787 0.77075646        nan 0.77522664 0.8203867  0.78961747\n",
      "        nan 0.77522541 0.81294131 0.83130482        nan 0.82832592\n",
      " 0.79011007 0.77770435        nan 0.80152569 0.79408152 0.79706041\n",
      "        nan 0.8049984  0.77820185 0.77373289        nan 0.79855048\n",
      " 0.75834951 0.7568619         nan 0.78762868 0.81939292 0.81889541\n",
      "        nan 0.7826659  0.76579613 0.78911628        nan 0.76728374\n",
      " 0.78911997 0.77621428        nan 0.76281969 0.7786969  0.76926762\n",
      "        nan 0.78713485 0.76380979 0.77472668        nan 0.77621306\n",
      " 0.79209886 0.76827629        nan 0.79259391 0.78911751 0.766785\n",
      "        nan 0.82782842 0.81145124 0.80053313        nan 0.76381225\n",
      " 0.78465469 0.75983588        nan 0.85412869 0.76380856 0.77869567\n",
      "        nan 0.82137557 0.75933838 0.7608309         nan 0.8213768\n",
      " 0.7687738  0.8025207         nan 0.78614476 0.82087684 0.77174655\n",
      "        nan 0.80698229 0.76678746 0.76629118        nan 0.79706164\n",
      " 0.8169103  0.78217085        nan 0.75487925 0.80202074 0.77125028\n",
      "        nan 0.78613616 0.78464855 0.76827507        nan 0.80202074\n",
      " 0.76827507 0.77720438        nan 0.80648969 0.78663612 0.80400953\n",
      "        nan 0.78911997 0.80152446 0.76778002        nan 0.77869567\n",
      " 0.78961502 0.7786969         nan 0.77521927 0.77770435 0.77174778\n",
      "        nan 0.78763113 0.78812618 0.78862123        nan 0.76033585\n",
      " 0.78763113 0.76380734        nan 0.80847481 0.77175024 0.7896187\n",
      "        nan 0.76628873 0.77919441 0.79705796        nan 0.80797853\n",
      " 0.77025895 0.78365845        nan 0.77919318 0.80599219 0.79755055]\n",
      "  warnings.warn(\n"
     ]
    },
    {
     "name": "stdout",
     "output_type": "stream",
     "text": [
      "Finished Grid Search (0.9280753968253969) | Best Params: {'learning_rate': 0.01, 'max_depth': 8, 'max_features': 'sqrt', 'min_samples_leaf': 8, 'min_samples_split': 2}\n"
     ]
    }
   ],
   "source": [
    "parameters = {\n",
    "    \"learning_rate\": [0.001, 0.01, 0.025, 0.05, 0.075, 0.1, 0.2],\n",
    "    \"min_samples_split\": [1, 2, 5, 10],\n",
    "    \"min_samples_leaf\": [1, 2, 4, 6, 8],\n",
    "    \"max_depth\": [3, 5, 8],\n",
    "    \"max_features\": [\"log2\", \"sqrt\"],\n",
    "}\n",
    "\n",
    "grid_search = GridSearchCV(GradientBoostingClassifier(), parameters, cv=5, n_jobs=-1, verbose=10)\n",
    "grid_search.fit(new_x_train_df, new_y_train_df)\n",
    "\n",
    "print(\"Finished Grid Search ({}) | Best Params: {}\".format(grid_search.score(new_x_train_df, new_y_train_df), grid_search.best_params_))"
   ]
  },
  {
   "cell_type": "code",
   "execution_count": 15,
   "metadata": {},
   "outputs": [
    {
     "data": {
      "image/png": "[encoded data removed]",
      "text/plain": [
       "<Figure size 432x288 with 1 Axes>"
      ]
     },
     "metadata": {
      "needs_background": "light"
     },
     "output_type": "display_data"
    },
    {
     "name": "stdout",
     "output_type": "stream",
     "text": [
      "Accuracy: [0.915702479338843, 0.9289256198347108, 0.912396694214876, 0.912396694214876, 0.912396694214876]\n",
      "Log Loss: 0.22295529159413244\n"
     ]
    }
   ],
   "source": [
    "train_x, test_x, train_y, test_y = train_test_split(new_x_train_df, new_y_train_df, random_state=42, train_size= 0.7)\n",
    "\n",
    "# Create a Gradient Boosting Classifier model\n",
    "model = GradientBoostingClassifier(learning_rate=.1, loss=\"exponential\")\n",
    "lr_list = [1,0.1,0.001, 0.0001,0.00001]\n",
    "acc = []\n",
    "for lr in lr_list:\n",
    "    # Change the learning rate \n",
    "    model.set_params(learning_rate=lr)\n",
    "    # Train the model on the data\n",
    "    model.fit(train_x, train_y)\n",
    "\n",
    "    # Generate predictions on the test set\n",
    "    y_pred = model.predict(test_x)\n",
    "\n",
    "    # Compute the accuracy of the model\n",
    "    acc.append(accuracy_score(test_y, y_pred))\n",
    "\n",
    "# Plot the learning rate vs. accuracy\n",
    "plt.plot(lr_list, acc)\n",
    "plt.title('Learning Rate vs. Accuracy for Gradient Boosting Model')\n",
    "plt.xlabel('Learning Rate')\n",
    "plt.ylabel('Accuracy')\n",
    "# Set the x-axis to log scale\n",
    "plt.xscale('log')\n",
    "plt.show()\n",
    "\n",
    "print(\"Accuracy:\", acc)\n",
    "\n",
    "model = GradientBoostingClassifier(learning_rate=.1, loss=\"exponential\")\n",
    "model.fit(train_x, train_y)\n",
    "# Generate class probabilities on the test set\n",
    "y_proba = model.predict_proba(test_x)\n",
    "\n",
    "# Compute the log loss of the model\n",
    "log_loss = log_loss(test_y, y_proba)\n",
    "\n",
    "print(\"Log Loss:\", log_loss)"
   ]
  },
  {
   "cell_type": "code",
   "execution_count": 16,
   "metadata": {},
   "outputs": [],
   "source": [
    "\n",
    "y_pred = model.predict_proba(new_x_test_df)\n",
    "\n",
    "test_patient_ids = new_x_test_df['patientunitstayid']\n",
    "submission_df = pd.DataFrame({'patientunitstayid': test_patient_ids, 'hospitaldischargestatus': y_pred[:, 1]})\n",
    "\n",
    "submission_df[\"patientunitstayid\"] = submission_df[\"patientunitstayid\"].astype(\"int64\")\n",
    "submission_df.to_csv('submission.csv', index=False)"
   ]
  }
 ],
 "metadata": {
  "kernelspec": {
   "display_name": "Python 3",
   "language": "python",
   "name": "python3"
  },
  "language_info": {
   "codemirror_mode": {
    "name": "ipython",
    "version": 3
   },
   "file_extension": ".py",
   "mimetype": "text/x-python",
   "name": "python",
   "nbconvert_exporter": "python",
   "pygments_lexer": "ipython3",
   "version": "3.8.8"
  }
 },
 "nbformat": 4,
 "nbformat_minor": 2
}
