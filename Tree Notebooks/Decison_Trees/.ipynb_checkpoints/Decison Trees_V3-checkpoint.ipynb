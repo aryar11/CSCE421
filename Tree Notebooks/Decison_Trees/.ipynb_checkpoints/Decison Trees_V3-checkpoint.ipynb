{
 "cells": [
  {
   "cell_type": "markdown",
   "metadata": {},
   "source": [
    "## Contact Center (Decision Tree)"
   ]
  },
  {
   "cell_type": "code",
   "execution_count": 1,
   "metadata": {},
   "outputs": [
    {
     "name": "stdout",
     "output_type": "stream",
     "text": [
      "(12330, 7)\n",
      "Index(['Cust_id', 'Age', 'Account_balance', 'Personal_loan_ind',\n",
      "       'Home_loan_ind', 'Prime_Customer_ind', 'Overall_Satisfaction'],\n",
      "      dtype='object')\n"
     ]
    },
    {
     "data": {
      "text/html": [
       "<div>\n",
       "<style scoped>\n",
       "    .dataframe tbody tr th:only-of-type {\n",
       "        vertical-align: middle;\n",
       "    }\n",
       "\n",
       "    .dataframe tbody tr th {\n",
       "        vertical-align: top;\n",
       "    }\n",
       "\n",
       "    .dataframe thead th {\n",
       "        text-align: right;\n",
       "    }\n",
       "</style>\n",
       "<table border=\"1\" class=\"dataframe\">\n",
       "  <thead>\n",
       "    <tr style=\"text-align: right;\">\n",
       "      <th></th>\n",
       "      <th>Cust_id</th>\n",
       "      <th>Age</th>\n",
       "      <th>Account_balance</th>\n",
       "      <th>Personal_loan_ind</th>\n",
       "      <th>Home_loan_ind</th>\n",
       "      <th>Prime_Customer_ind</th>\n",
       "      <th>Overall_Satisfaction</th>\n",
       "    </tr>\n",
       "  </thead>\n",
       "  <tbody>\n",
       "    <tr>\n",
       "      <td>0</td>\n",
       "      <td>CX01-001</td>\n",
       "      <td>49</td>\n",
       "      <td>23974</td>\n",
       "      <td>1</td>\n",
       "      <td>0</td>\n",
       "      <td>1</td>\n",
       "      <td>Dis Satisfied</td>\n",
       "    </tr>\n",
       "    <tr>\n",
       "      <td>1</td>\n",
       "      <td>CX01-002</td>\n",
       "      <td>25</td>\n",
       "      <td>72374</td>\n",
       "      <td>0</td>\n",
       "      <td>1</td>\n",
       "      <td>1</td>\n",
       "      <td>Satisfied</td>\n",
       "    </tr>\n",
       "    <tr>\n",
       "      <td>2</td>\n",
       "      <td>CX01-003</td>\n",
       "      <td>32</td>\n",
       "      <td>65532</td>\n",
       "      <td>0</td>\n",
       "      <td>0</td>\n",
       "      <td>1</td>\n",
       "      <td>Satisfied</td>\n",
       "    </tr>\n",
       "    <tr>\n",
       "      <td>3</td>\n",
       "      <td>CX01-004</td>\n",
       "      <td>70</td>\n",
       "      <td>28076</td>\n",
       "      <td>0</td>\n",
       "      <td>1</td>\n",
       "      <td>1</td>\n",
       "      <td>Dis Satisfied</td>\n",
       "    </tr>\n",
       "    <tr>\n",
       "      <td>4</td>\n",
       "      <td>CX01-005</td>\n",
       "      <td>23</td>\n",
       "      <td>38974</td>\n",
       "      <td>1</td>\n",
       "      <td>1</td>\n",
       "      <td>1</td>\n",
       "      <td>Satisfied</td>\n",
       "    </tr>\n",
       "  </tbody>\n",
       "</table>\n",
       "</div>"
      ],
      "text/plain": [
       "    Cust_id  Age  Account_balance  Personal_loan_ind  Home_loan_ind  \\\n",
       "0  CX01-001   49            23974                  1              0   \n",
       "1  CX01-002   25            72374                  0              1   \n",
       "2  CX01-003   32            65532                  0              0   \n",
       "3  CX01-004   70            28076                  0              1   \n",
       "4  CX01-005   23            38974                  1              1   \n",
       "\n",
       "   Prime_Customer_ind Overall_Satisfaction  \n",
       "0                   1        Dis Satisfied  \n",
       "1                   1            Satisfied  \n",
       "2                   1            Satisfied  \n",
       "3                   1        Dis Satisfied  \n",
       "4                   1            Satisfied  "
      ]
     },
     "execution_count": 1,
     "metadata": {},
     "output_type": "execute_result"
    }
   ],
   "source": [
    "#Import Data\n",
    "import pandas as pd\n",
    "survey_data = pd.read_csv(r'Datasets/Call_center_survey.csv')\n",
    "\n",
    "#total number of customers\n",
    "print(survey_data.shape)\n",
    "\n",
    "#Column names\n",
    "print(survey_data.columns)\n",
    "\n",
    "#Print Sample data\n",
    "pd.set_option('display.max_columns', None) #This option displays all the columns \n",
    "\n",
    "survey_data.head()"
   ]
  },
  {
   "cell_type": "code",
   "execution_count": 2,
   "metadata": {},
   "outputs": [
    {
     "data": {
      "text/html": [
       "<div>\n",
       "<style scoped>\n",
       "    .dataframe tbody tr th:only-of-type {\n",
       "        vertical-align: middle;\n",
       "    }\n",
       "\n",
       "    .dataframe tbody tr th {\n",
       "        vertical-align: top;\n",
       "    }\n",
       "\n",
       "    .dataframe thead th {\n",
       "        text-align: right;\n",
       "    }\n",
       "</style>\n",
       "<table border=\"1\" class=\"dataframe\">\n",
       "  <thead>\n",
       "    <tr style=\"text-align: right;\">\n",
       "      <th></th>\n",
       "      <th>Age</th>\n",
       "      <th>Account_balance</th>\n",
       "      <th>Personal_loan_ind</th>\n",
       "      <th>Home_loan_ind</th>\n",
       "      <th>Prime_Customer_ind</th>\n",
       "    </tr>\n",
       "  </thead>\n",
       "  <tbody>\n",
       "    <tr>\n",
       "      <td>count</td>\n",
       "      <td>12330.00</td>\n",
       "      <td>12330.00</td>\n",
       "      <td>12330.0</td>\n",
       "      <td>12330.0</td>\n",
       "      <td>12330.00</td>\n",
       "    </tr>\n",
       "    <tr>\n",
       "      <td>mean</td>\n",
       "      <td>44.77</td>\n",
       "      <td>41177.14</td>\n",
       "      <td>0.5</td>\n",
       "      <td>0.5</td>\n",
       "      <td>0.58</td>\n",
       "    </tr>\n",
       "    <tr>\n",
       "      <td>std</td>\n",
       "      <td>13.91</td>\n",
       "      <td>26432.60</td>\n",
       "      <td>0.5</td>\n",
       "      <td>0.5</td>\n",
       "      <td>0.49</td>\n",
       "    </tr>\n",
       "    <tr>\n",
       "      <td>min</td>\n",
       "      <td>19.00</td>\n",
       "      <td>4904.00</td>\n",
       "      <td>0.0</td>\n",
       "      <td>0.0</td>\n",
       "      <td>0.00</td>\n",
       "    </tr>\n",
       "    <tr>\n",
       "      <td>25%</td>\n",
       "      <td>35.00</td>\n",
       "      <td>20927.00</td>\n",
       "      <td>0.0</td>\n",
       "      <td>0.0</td>\n",
       "      <td>0.00</td>\n",
       "    </tr>\n",
       "    <tr>\n",
       "      <td>50%</td>\n",
       "      <td>43.00</td>\n",
       "      <td>34065.00</td>\n",
       "      <td>0.0</td>\n",
       "      <td>0.0</td>\n",
       "      <td>1.00</td>\n",
       "    </tr>\n",
       "    <tr>\n",
       "      <td>75%</td>\n",
       "      <td>55.00</td>\n",
       "      <td>60264.00</td>\n",
       "      <td>1.0</td>\n",
       "      <td>1.0</td>\n",
       "      <td>1.00</td>\n",
       "    </tr>\n",
       "    <tr>\n",
       "      <td>max</td>\n",
       "      <td>75.00</td>\n",
       "      <td>109776.00</td>\n",
       "      <td>1.0</td>\n",
       "      <td>1.0</td>\n",
       "      <td>1.00</td>\n",
       "    </tr>\n",
       "  </tbody>\n",
       "</table>\n",
       "</div>"
      ],
      "text/plain": [
       "            Age  Account_balance  Personal_loan_ind  Home_loan_ind  \\\n",
       "count  12330.00         12330.00            12330.0        12330.0   \n",
       "mean      44.77         41177.14                0.5            0.5   \n",
       "std       13.91         26432.60                0.5            0.5   \n",
       "min       19.00          4904.00                0.0            0.0   \n",
       "25%       35.00         20927.00                0.0            0.0   \n",
       "50%       43.00         34065.00                0.0            0.0   \n",
       "75%       55.00         60264.00                1.0            1.0   \n",
       "max       75.00        109776.00                1.0            1.0   \n",
       "\n",
       "       Prime_Customer_ind  \n",
       "count            12330.00  \n",
       "mean                 0.58  \n",
       "std                  0.49  \n",
       "min                  0.00  \n",
       "25%                  0.00  \n",
       "50%                  1.00  \n",
       "75%                  1.00  \n",
       "max                  1.00  "
      ]
     },
     "execution_count": 2,
     "metadata": {},
     "output_type": "execute_result"
    }
   ],
   "source": [
    "#Sample summary\n",
    "summary=survey_data.describe()\n",
    "round(summary,2)"
   ]
  },
  {
   "cell_type": "code",
   "execution_count": 3,
   "metadata": {},
   "outputs": [
    {
     "data": {
      "text/plain": [
       "1    7113\n",
       "0    5217\n",
       "Name: Prime_Customer_ind, dtype: int64"
      ]
     },
     "execution_count": 3,
     "metadata": {},
     "output_type": "execute_result"
    }
   ],
   "source": [
    "survey_data['Overall_Satisfaction'].value_counts()\n",
    "survey_data[\"Personal_loan_ind\"].value_counts()\n",
    "survey_data[\"Home_loan_ind\"].value_counts()\n",
    "survey_data[\"Prime_Customer_ind\"].value_counts()"
   ]
  },
  {
   "cell_type": "code",
   "execution_count": 4,
   "metadata": {},
   "outputs": [
    {
     "name": "stdout",
     "output_type": "stream",
     "text": [
      "['Age', 'Account_balance', 'Personal_loan_ind', 'Home_loan_ind', 'Prime_Customer_ind']\n"
     ]
    }
   ],
   "source": [
    "#4.4.2\n",
    "#Non numerical data need to be mapped to numerical data. \n",
    "survey_data['Overall_Satisfaction'] = survey_data['Overall_Satisfaction'].map( {'Dis Satisfied': 0, 'Satisfied': 1} ).astype(int)\n",
    "\n",
    "#number of satisfied customers\n",
    "survey_data['Overall_Satisfaction'].value_counts()\n",
    "\n",
    "#Defining Features and lables, ignoring cust_num and target variable\n",
    "features=list(survey_data.columns[1:6])\n",
    "print(features)\n"
   ]
  },
  {
   "cell_type": "code",
   "execution_count": 5,
   "metadata": {},
   "outputs": [
    {
     "data": {
      "text/plain": [
       "DecisionTreeClassifier(max_depth=2)"
      ]
     },
     "execution_count": 5,
     "metadata": {},
     "output_type": "execute_result"
    }
   ],
   "source": [
    "#Preparing X and Y data\n",
    "\n",
    "X = survey_data[features]\n",
    "y = survey_data['Overall_Satisfaction']\n",
    "\n",
    "#Building Tree Model\n",
    "from sklearn import tree\n",
    "DT_Model = tree.DecisionTreeClassifier(max_depth=2)\n",
    "DT_Model.fit(X,y)\n"
   ]
  },
  {
   "cell_type": "code",
   "execution_count": 11,
   "metadata": {},
   "outputs": [
    {
     "name": "stdout",
     "output_type": "stream",
     "text": [
      "|--- Account_balance <= 40140.50\n",
      "|   |--- Age <= 30.50\n",
      "|   |   |--- class: 1\n",
      "|   |--- Age >  30.50\n",
      "|   |   |--- class: 0\n",
      "|--- Account_balance >  40140.50\n",
      "|   |--- Age <= 50.50\n",
      "|   |   |--- class: 1\n",
      "|   |--- Age >  50.50\n",
      "|   |   |--- class: 0\n",
      "\n"
     ]
    }
   ],
   "source": [
    "##Plotting the trees - New Method\n",
    "\n",
    "import matplotlib.pyplot as plt\n",
    "from sklearn.tree import plot_tree, export_text\n",
    "plt.figure(figsize=(15,7))\n",
    "plot_tree(DT_Model, filled=True, \n",
    "                     rounded=True,\n",
    "                     impurity=False,\n",
    "                     feature_names = features)\n",
    "\n",
    "print(export_text(DT_Model, feature_names = features))\n"
   ]
  },
  {
   "cell_type": "code",
   "execution_count": 12,
   "metadata": {},
   "outputs": [
    {
     "name": "stdout",
     "output_type": "stream",
     "text": [
      "[0 1 1 ... 1 1 1]\n",
      "[[6631   76]\n",
      " [ 834 4789]]\n",
      "0.9261962692619627\n"
     ]
    }
   ],
   "source": [
    "#LAB : Tree Validation\n",
    "########################################\n",
    "##########Tree Validation\n",
    "#Tree Validation\n",
    "predict1 = DT_Model.predict(X)\n",
    "print(predict1)\n",
    "\n",
    "from sklearn.metrics import confusion_matrix \n",
    "cm = confusion_matrix(y, predict1)\n",
    "print(cm)\n",
    "\n",
    "total = sum(sum(cm))\n",
    "#####from confusion matrix calculate accuracy\n",
    "accuracy = (cm[0,0]+cm[1,1])/total\n",
    "print(accuracy)"
   ]
  },
  {
   "cell_type": "markdown",
   "metadata": {},
   "source": [
    "## Customer Profile (Overfitting & Tree Pruning)"
   ]
  },
  {
   "cell_type": "code",
   "execution_count": 14,
   "metadata": {},
   "outputs": [
    {
     "name": "stdout",
     "output_type": "stream",
     "text": [
      "(109, 4)\n",
      "   Sr_no  Age  Gender Bought\n",
      "0      1   45    Male    Yes\n",
      "1      2   56    Male    Yes\n",
      "2      3   49  Female    Yes\n",
      "3      4   50  Female     No\n",
      "4      5   75  Female     No\n",
      "   Sr_no  Age  Gender  Bought\n",
      "0      1   45       1       1\n",
      "1      2   56       1       1\n",
      "2      3   49       0       1\n",
      "3      4   50       0       0\n",
      "4      5   75       0       0\n",
      "['Age', 'Gender']\n",
      "(109, 2)\n",
      "(109,)\n"
     ]
    }
   ],
   "source": [
    "#LAB: Overfitting\n",
    "#LAB: The problem of overfitting\n",
    "############################################################################ \n",
    "##The problem of overfitting\n",
    "\n",
    "import pandas as pd\n",
    "overall_data = pd.read_csv(r\"Datasets/Customer_profile_data.csv\")\n",
    "\n",
    "##print train.info()\n",
    "print(overall_data.shape)\n",
    "\n",
    "#First few records\n",
    "print(overall_data.head())\n",
    "\n",
    "# the data have string values we need to convert them into numerical values\n",
    "overall_data['Gender'] = overall_data['Gender'].map( {'Male': 1, 'Female': 0} ).astype(int)\n",
    "overall_data['Bought'] = overall_data['Bought'].map({'Yes':1, 'No':0}).astype(int)\n",
    "\n",
    "#First few records\n",
    "print(overall_data.head())\n",
    "\n",
    "#Defining features, X and Y\n",
    "features = list(overall_data.columns[1:3])\n",
    "print(features)\n",
    "\n",
    "X = overall_data[features]\n",
    "y = overall_data['Bought']\n",
    "\n",
    "print(X.shape)\n",
    "print(y.shape)"
   ]
  },
  {
   "cell_type": "code",
   "execution_count": 15,
   "metadata": {},
   "outputs": [
    {
     "name": "stdout",
     "output_type": "stream",
     "text": [
      "X_train.shape (87, 2)\n",
      "y_train.shape (87,)\n",
      "X_test.shape (22, 2)\n",
      "y_test.shape (22,)\n"
     ]
    }
   ],
   "source": [
    "#Dividing X and y to train and test data parts. The function train_test_split() takes care of it. Mention the train data percentage in the parameter train_size. \n",
    "from sklearn import model_selection\n",
    "X_train, X_test, y_train, y_test = model_selection.train_test_split(X,y, train_size = 0.8 , random_state=5)\n",
    "\n",
    "print(\"X_train.shape\", X_train.shape)\n",
    "print(\"y_train.shape\",y_train.shape)\n",
    "print(\"X_test.shape\",X_test.shape)\n",
    "print(\"y_test.shape\",y_test.shape)"
   ]
  },
  {
   "cell_type": "code",
   "execution_count": 19,
   "metadata": {},
   "outputs": [
    {
     "data": {
      "text/plain": [
       "DecisionTreeClassifier()"
      ]
     },
     "execution_count": 19,
     "metadata": {},
     "output_type": "execute_result"
    }
   ],
   "source": [
    "from sklearn import tree\n",
    "#training Tree Model\n",
    "DT_Model1 = tree.DecisionTreeClassifier()\n",
    "DT_Model1.fit(X_train,y_train)\n",
    "# plotting is skipped because depedency issues (mentioned in the textbook too, GraphViz's executable not found)\n",
    "# refer the textbook for the output"
   ]
  },
  {
   "cell_type": "code",
   "execution_count": 20,
   "metadata": {},
   "outputs": [
    {
     "name": "stdout",
     "output_type": "stream",
     "text": [
      "Train accuracy 0.9655172413793104\n",
      "Test accuracy 0.7727272727272727\n"
     ]
    }
   ],
   "source": [
    "#Accuracy on train data\n",
    "from sklearn.metrics import confusion_matrix\n",
    "\n",
    "predict1 = DT_Model1.predict(X_train)\n",
    "cm1 = confusion_matrix(y_train,predict1)\n",
    "total1 = sum(sum(cm1))\n",
    "accuracy1 = (cm1[0,0]+cm1[1,1])/total1\n",
    "print(\"Train accuracy\", accuracy1)\n",
    "\n",
    "#Accuracy on test data\n",
    "predict2 = DT_Model1.predict(X_test)\n",
    "cm2 = confusion_matrix(y_test,predict2)\n",
    "total2 = sum(sum(cm2))\n",
    "#####from confusion matrix calculate accuracy\n",
    "accuracy2 = (cm2[0,0]+cm2[1,1])/total2\n",
    "print(\"Test accuracy\",accuracy2)"
   ]
  },
  {
   "cell_type": "code",
   "execution_count": 21,
   "metadata": {},
   "outputs": [
    {
     "name": "stdout",
     "output_type": "stream",
     "text": [
      "max_depth4 Train Accuracy 0.9425287356321839\n",
      "max_depth4 Test Accuracy 0.7727272727272727\n"
     ]
    }
   ],
   "source": [
    "####LAB: Pruning\n",
    "#### max_depth parameter \n",
    "DT_Model2 = tree.DecisionTreeClassifier(max_depth= 4)\n",
    "DT_Model2.fit(X_train,y_train)\n",
    "\n",
    "predict3 = DT_Model2.predict(X_train)\n",
    "predict4 = DT_Model2.predict(X_test)\n",
    "\n",
    "#Accuracy of the model on the train data\n",
    "cm1 = confusion_matrix(y_train,predict3)\n",
    "total1 = sum(sum(cm1))\n",
    "accuracy1 = (cm1[0,0]+cm1[1,1])/total1\n",
    "print(\"max_depth4 Train Accuracy\", accuracy1)\n",
    "\n",
    "#Accuracy of the model on the Test Data\n",
    "cm2 = confusion_matrix(y_test,predict4)\n",
    "total2 = sum(sum(cm2))\n",
    "accuracy2 = (cm2[0,0]+cm2[1,1])/total2\n",
    "print(\"max_depth4 Test Accuracy\", accuracy2)"
   ]
  },
  {
   "cell_type": "code",
   "execution_count": 22,
   "metadata": {},
   "outputs": [
    {
     "name": "stdout",
     "output_type": "stream",
     "text": [
      "max_depth2 Train Accuracy 0.896551724137931\n",
      "max_depth2 Test Accuracy 0.8636363636363636\n"
     ]
    }
   ],
   "source": [
    "#### max_depth =2\n",
    "DT_Model2 = tree.DecisionTreeClassifier(max_depth= 2)\n",
    "DT_Model2.fit(X_train,y_train)\n",
    "\n",
    "predict3 = DT_Model2.predict(X_train)\n",
    "predict4 = DT_Model2.predict(X_test)\n",
    "\n",
    "#Accuracy of the model on the train data\n",
    "cm1 = confusion_matrix(y_train,predict3)\n",
    "total1 = sum(sum(cm1))\n",
    "accuracy1 = (cm1[0,0]+cm1[1,1])/total1\n",
    "print(\"max_depth2 Train Accuracy\", accuracy1)\n",
    "\n",
    "#Accuracy of the model on the Test Data\n",
    "cm2 = confusion_matrix(y_test,predict4)\n",
    "total2 = sum(sum(cm2))\n",
    "accuracy2 = (cm2[0,0]+cm2[1,1])/total2\n",
    "print(\"max_depth2 Test Accuracy\", accuracy2)"
   ]
  },
  {
   "cell_type": "code",
   "execution_count": 23,
   "metadata": {},
   "outputs": [
    {
     "name": "stdout",
     "output_type": "stream",
     "text": [
      "max_depth1 Train Accuracy 0.8735632183908046\n",
      "max_depth1 Test Accuracy 0.8181818181818182\n"
     ]
    }
   ],
   "source": [
    "#### The problem of underfitting\n",
    "#### max_depth =1\n",
    "DT_Model2 = tree.DecisionTreeClassifier(max_depth= 1)\n",
    "DT_Model2.fit(X_train,y_train)\n",
    "\n",
    "predict3 = DT_Model2.predict(X_train)\n",
    "predict4 = DT_Model2.predict(X_test)\n",
    "\n",
    "#Accuracy of the model on the train data\n",
    "cm1 = confusion_matrix(y_train,predict3)\n",
    "total1 = sum(sum(cm1))\n",
    "accuracy1 = (cm1[0,0]+cm1[1,1])/total1\n",
    "print(\"max_depth1 Train Accuracy\", accuracy1)\n",
    "\n",
    "#Accuracy of the model on the Test Data\n",
    "cm2 = confusion_matrix(y_test,predict4)\n",
    "total2 = sum(sum(cm2))\n",
    "accuracy2 = (cm2[0,0]+cm2[1,1])/total2\n",
    "print(\"max_depth1 Test Accuracy\", accuracy2)"
   ]
  },
  {
   "cell_type": "code",
   "execution_count": 24,
   "metadata": {},
   "outputs": [
    {
     "name": "stdout",
     "output_type": "stream",
     "text": [
      "0.896551724137931\n",
      "0.8636363636363636\n"
     ]
    }
   ],
   "source": [
    "#### max_leaf_nodes =4\n",
    "DT_Model3 = tree.DecisionTreeClassifier(max_leaf_nodes= 3)\n",
    "DT_Model3.fit(X_train,y_train)\n",
    "\n",
    "predict3 = DT_Model3.predict(X_train)\n",
    "predict4 = DT_Model3.predict(X_test)\n",
    "\n",
    "#Accuracy of the model on the train data\n",
    "cm1 = confusion_matrix(y_train,predict3)\n",
    "total1 = sum(sum(cm1))\n",
    "accuracy1 = (cm1[0,0]+cm1[1,1])/total1\n",
    "print(accuracy1)\n",
    "\n",
    "#Accuracy of the model on the Test Data\n",
    "cm2 = confusion_matrix(y_test,predict4)\n",
    "total2 = sum(sum(cm2))\n",
    "accuracy2 = (cm2[0,0]+cm2[1,1])/total2\n",
    "print(accuracy2)"
   ]
  },
  {
   "cell_type": "code",
   "execution_count": null,
   "metadata": {},
   "outputs": [],
   "source": []
  }
 ],
 "metadata": {
  "kernelspec": {
   "display_name": "Python 3",
   "language": "python",
   "name": "python3"
  },
  "language_info": {
   "codemirror_mode": {
    "name": "ipython",
    "version": 3
   },
   "file_extension": ".py",
   "mimetype": "text/x-python",
   "name": "python",
   "nbconvert_exporter": "python",
   "pygments_lexer": "ipython3",
   "version": "3.7.4"
  }
 },
 "nbformat": 4,
 "nbformat_minor": 4
}
