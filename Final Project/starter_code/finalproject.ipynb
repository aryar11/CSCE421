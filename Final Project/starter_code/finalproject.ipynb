{
 "cells": [
  {
   "attachments": {},
   "cell_type": "markdown",
   "metadata": {},
   "source": [
    "## Final Project"
   ]
  },
  {
   "cell_type": "code",
   "execution_count": 99,
   "metadata": {},
   "outputs": [],
   "source": [
    "import os\n",
    "import sys\n",
    "import random\n",
    "\n",
    "import numpy as np\n",
    "import pandas as pd\n",
    "import matplotlib.pyplot as plt\n",
    "\n",
    "from sklearn.model_selection import train_test_split, cross_val_score, GridSearchCV\n",
    "from sklearn.metrics import accuracy_score, log_loss, confusion_matrix\n",
    "from sklearn.ensemble import GradientBoostingClassifier\n",
    "from sklearn.model_selection import train_test_split\n",
    "from sklearn.feature_selection import SelectFromModel\n",
    "from sklearn.preprocessing import StandardScaler, MinMaxScaler\n",
    "from sklearn.pipeline import Pipeline\n",
    "\n",
    "from keras.models import Sequential\n",
    "from keras.layers import Dense, Dropout, Activation, Flatten, Conv2D, MaxPooling2D"
   ]
  },
  {
   "attachments": {},
   "cell_type": "markdown",
   "metadata": {},
   "source": [
    "Setting the random seed for reproducibility"
   ]
  },
  {
   "cell_type": "code",
   "execution_count": 100,
   "metadata": {},
   "outputs": [],
   "source": [
    "random.seed(42)\n",
    "np.random.seed(42)"
   ]
  },
  {
   "attachments": {},
   "cell_type": "markdown",
   "metadata": {},
   "source": [
    "## Reading the Data"
   ]
  },
  {
   "attachments": {},
   "cell_type": "markdown",
   "metadata": {},
   "source": [
    "Due to the large amount of records in the CSV files, we set low_memory=False to ensure that the data is read in correctly."
   ]
  },
  {
   "cell_type": "code",
   "execution_count": 101,
   "metadata": {},
   "outputs": [],
   "source": [
    "x_train_df = pd.read_csv(\"./data/train_x.csv\", low_memory=False)\n",
    "y_train_df = pd.read_csv(\"./data/train_y.csv\", low_memory=False)\n",
    "x_test_df = pd.read_csv(\"./data/test_x.csv\", low_memory=False)"
   ]
  },
  {
   "attachments": {},
   "cell_type": "markdown",
   "metadata": {},
   "source": [
    "## Remove Unnecessary Columns / Features"
   ]
  },
  {
   "attachments": {},
   "cell_type": "markdown",
   "metadata": {},
   "source": [
    "Here we want to remove any columns that are not necessary for our analysis. We will remove the following columns:\n",
    "\n",
    "-   `Unnamed: 0`\n",
    "-   `cellattributevalue`\n",
    "-   `celllabel`\n",
    "-   `labmeasurenamesystem`\n",
    "-   `labname`\n",
    "-   `labresult`\n",
    "\n",
    "We deem these columns unnecessary because they do not provide any useful information for our analysis or the sparse data will not be useful for our training."
   ]
  },
  {
   "cell_type": "code",
   "execution_count": 102,
   "metadata": {},
   "outputs": [],
   "source": [
    "new_x_train_df = x_train_df.drop(columns=[\"Unnamed: 0\", \"cellattributevalue\", \"celllabel\", \"labmeasurenamesystem\", \"labname\", \"labresult\"])\n",
    "new_x_test_df = x_test_df.drop(columns=[\"Unnamed: 0\", \"cellattributevalue\", \"celllabel\", \"labmeasurenamesystem\", \"labname\", \"labresult\"])\n",
    "new_y_train_df = y_train_df[\"hospitaldischargestatus\"]"
   ]
  },
  {
   "attachments": {},
   "cell_type": "markdown",
   "metadata": {},
   "source": [
    "## Preprocessing"
   ]
  },
  {
   "cell_type": "code",
   "execution_count": 103,
   "metadata": {},
   "outputs": [],
   "source": [
    "new_x_train_df.sort_values(by=[\"patientunitstayid\"], inplace=True)\n",
    "new_x_test_df.sort_values(by=[\"patientunitstayid\"], inplace=True)"
   ]
  },
  {
   "cell_type": "code",
   "execution_count": 104,
   "metadata": {},
   "outputs": [],
   "source": [
    "new_x_train_df[\"age\"].replace(\"> 89\", 90, inplace=True)\n",
    "new_x_train_df[\"age\"] = new_x_train_df[\"age\"].astype(\"float64\")\n",
    "new_x_train_df[\"nursingchartvalue\"].replace(\"Unable to score due to medication\", np.nan, inplace=True)\n",
    "new_x_train_df[\"nursingchartvalue\"] = new_x_train_df[\"nursingchartvalue\"].astype(\"float64\")\n",
    "\n",
    "new_x_test_df[\"age\"].replace(\"> 89\", 90, inplace=True)\n",
    "new_x_test_df[\"age\"] = new_x_test_df[\"age\"].astype(\"float64\")\n",
    "new_x_test_df[\"nursingchartvalue\"].replace(\"Unable to score due to medication\", np.nan, inplace=True)\n",
    "new_x_test_df[\"nursingchartvalue\"] = new_x_test_df[\"nursingchartvalue\"].astype(\"float64\")"
   ]
  },
  {
   "cell_type": "code",
   "execution_count": 105,
   "metadata": {},
   "outputs": [],
   "source": [
    "def encode_data(train_df: pd.DataFrame, test_df: pd.DataFrame):\n",
    "    # Combine the training and test data\n",
    "    combined_df = pd.concat([train_df, test_df], axis=0)\n",
    "\n",
    "    numerical = combined_df.select_dtypes(include=[\"int64\", \"float64\"])\n",
    "    nonnumerical = combined_df.select_dtypes(exclude=[\"int64\", \"float64\"])\n",
    "    categorical = pd.get_dummies(nonnumerical)\n",
    "\n",
    "    # Split the combined data back into training and test data\n",
    "    n_train = len(train_df)\n",
    "    train_categorical = categorical.iloc[:n_train]\n",
    "    test_categorical = categorical.iloc[n_train:]\n",
    "\n",
    "    train_data = pd.concat([numerical[:n_train], train_categorical], axis=1)\n",
    "    test_data = pd.concat([numerical[n_train:], test_categorical], axis=1)\n",
    "\n",
    "    return train_data, test_data"
   ]
  },
  {
   "cell_type": "code",
   "execution_count": 106,
   "metadata": {},
   "outputs": [
    {
     "name": "stdout",
     "output_type": "stream",
     "text": [
      "(791936, 25)\n",
      "(225895, 25)\n"
     ]
    }
   ],
   "source": [
    "new_x_train_df, new_x_test_df = encode_data(new_x_train_df, new_x_test_df)\n",
    "\n",
    "print(new_x_train_df.shape)\n",
    "print(new_x_test_df.shape)"
   ]
  },
  {
   "cell_type": "code",
   "execution_count": 107,
   "metadata": {},
   "outputs": [],
   "source": [
    "nursing_chart_types = [col for col in new_x_train_df.columns if col.startswith(\"nursingchartcelltypevalname\")]\n",
    "for nursing_chart_type in nursing_chart_types:\n",
    "    new_x_train_df[nursing_chart_type] = new_x_train_df.apply(lambda row: row['nursingchartvalue'] if row[nursing_chart_type] == 1 else 0, axis=1)\n",
    "    new_x_test_df[nursing_chart_type] = new_x_test_df.apply(lambda row: row['nursingchartvalue'] if row[nursing_chart_type] == 1 else 0, axis=1)\n",
    "\n",
    "new_x_train_df.drop(columns=[\"nursingchartvalue\"], inplace=True)\n",
    "new_x_test_df.drop(columns=[\"nursingchartvalue\"], inplace=True)"
   ]
  },
  {
   "cell_type": "code",
   "execution_count": 108,
   "metadata": {},
   "outputs": [],
   "source": [
    "def aggregate_data(df: pd.DataFrame):\n",
    "    agg_dict = {\n",
    "        \"offset\": \"sum\",\n",
    "        \"admissionheight\": \"max\",\n",
    "        \"admissionweight\": \"max\",\n",
    "        \"age\": \"max\",\n",
    "        \"unitvisitnumber\": \"max\",\n",
    "        \"ethnicity_African American\": \"max\",\n",
    "        \"ethnicity_Asian\": \"max\",\n",
    "        \"ethnicity_Caucasian\": \"max\",\n",
    "        \"ethnicity_Hispanic\": \"max\",\n",
    "        \"ethnicity_Native American\": \"max\",\n",
    "        \"ethnicity_Other/Unknown\": \"max\",\n",
    "        \"gender_Female\": \"max\",\n",
    "        \"gender_Male\": \"max\",\n",
    "        \"nursingchartcelltypevalname_GCS Total\": lambda x: x[x != 0].mean(),\n",
    "        \"nursingchartcelltypevalname_Heart Rate\": lambda x: x[x != 0].mean(),\n",
    "        \"nursingchartcelltypevalname_Invasive BP Diastolic\": lambda x: x[x != 0].mean(),\n",
    "        \"nursingchartcelltypevalname_Invasive BP Mean\": lambda x: x[x != 0].mean(),\n",
    "        \"nursingchartcelltypevalname_Invasive BP Systolic\": lambda x: x[x != 0].mean(),\n",
    "        \"nursingchartcelltypevalname_Non-Invasive BP Diastolic\": lambda x: x[x != 0].mean(),\n",
    "        \"nursingchartcelltypevalname_Non-Invasive BP Mean\": lambda x: x[x != 0].mean(),\n",
    "        \"nursingchartcelltypevalname_Non-Invasive BP Systolic\": lambda x: x[x != 0].mean(),\n",
    "        \"nursingchartcelltypevalname_O2 Saturation\": lambda x: x[x != 0].mean(),\n",
    "        \"nursingchartcelltypevalname_Respiratory Rate\": lambda x: x[x != 0].mean(),\n",
    "    }\n",
    "    grouped_df = df.groupby(\"patientunitstayid\").agg(agg_dict)\n",
    "    grouped_df.reset_index(inplace=True)\n",
    "    return grouped_df"
   ]
  },
  {
   "cell_type": "code",
   "execution_count": 109,
   "metadata": {},
   "outputs": [],
   "source": [
    "new_x_train_df = aggregate_data(new_x_train_df)\n",
    "new_x_test_df = aggregate_data(new_x_test_df)"
   ]
  },
  {
   "cell_type": "code",
   "execution_count": 110,
   "metadata": {},
   "outputs": [],
   "source": [
    "numerical = new_x_train_df.select_dtypes(include=[\"int64\", \"float64\"])\n",
    "numerical.fillna(0, inplace=True)\n",
    "new_x_train_df.update(numerical)\n",
    "\n",
    "numerical = new_x_test_df.select_dtypes(include=[\"int64\", \"float64\"])\n",
    "numerical.fillna(0, inplace=True)\n",
    "new_x_test_df.update(numerical)"
   ]
  },
  {
   "cell_type": "code",
   "execution_count": 111,
   "metadata": {},
   "outputs": [
    {
     "name": "stdout",
     "output_type": "stream",
     "text": [
      "(2016, 24)\n",
      "(2016,)\n"
     ]
    }
   ],
   "source": [
    "print(new_x_train_df.shape)\n",
    "print(new_y_train_df.shape)"
   ]
  },
  {
   "attachments": {},
   "cell_type": "markdown",
   "metadata": {},
   "source": [
    "## Building Our Model"
   ]
  },
  {
   "attachments": {},
   "cell_type": "markdown",
   "metadata": {},
   "source": [
    "Attempting GridSearch"
   ]
  },
  {
   "cell_type": "code",
   "execution_count": null,
   "metadata": {},
   "outputs": [],
   "source": [
    "parameters = {\n",
    "    \"learning_rate\": [0.001, 0.01, 0.025, 0.05, 0.075, 0.1, 0.2],\n",
    "    \"min_samples_split\": [1, 2, 5, 10],\n",
    "    \"min_samples_leaf\": [1, 2, 4, 6, 8],\n",
    "    \"max_depth\": [3, 5, 8],\n",
    "    \"max_features\": [\"log2\", \"sqrt\"],\n",
    "}\n",
    "\n",
    "grid_search = GridSearchCV(GradientBoostingClassifier(), parameters, cv=5, n_jobs=-1, verbose=10)\n",
    "grid_search.fit(new_x_train_df, new_y_train_df)\n",
    "\n",
    "print(\"Finished Grid Search ({}) | Best Params: {}\".format(grid_search.score(new_x_train_df, new_y_train_df), grid_search.best_params_))"
   ]
  },
  {
   "cell_type": "code",
   "execution_count": 112,
   "metadata": {},
   "outputs": [
    {
     "data": {
      "image/png": "[encoded data removed]",
      "text/plain": [
       "<Figure size 640x480 with 1 Axes>"
      ]
     },
     "metadata": {},
     "output_type": "display_data"
    },
    {
     "name": "stdout",
     "output_type": "stream",
     "text": [
      "Accuracy: [0.915702479338843, 0.9289256198347108, 0.912396694214876, 0.912396694214876, 0.912396694214876]\n",
      "Log Loss: 0.2229636368967961\n"
     ]
    }
   ],
   "source": [
    "train_x, test_x, train_y, test_y = train_test_split(new_x_train_df, new_y_train_df, random_state=42, train_size= 0.7)\n",
    "\n",
    "# Create a Gradient Boosting Classifier model\n",
    "model = GradientBoostingClassifier(learning_rate=.1, loss=\"exponential\")\n",
    "lr_list = [1,0.1,0.001, 0.0001,0.00001]\n",
    "acc = []\n",
    "for lr in lr_list:\n",
    "    # Change the learning rate \n",
    "    model.set_params(learning_rate=lr)\n",
    "    # Train the model on the data\n",
    "    model.fit(train_x, train_y)\n",
    "\n",
    "    # Generate predictions on the test set\n",
    "    y_pred = model.predict(test_x)\n",
    "\n",
    "    # Compute the accuracy of the model\n",
    "    acc.append(accuracy_score(test_y, y_pred))\n",
    "\n",
    "# Plot the learning rate vs. accuracy\n",
    "plt.plot(lr_list, acc)\n",
    "plt.title('Learning Rate vs. Accuracy for Gradient Boosting Model')\n",
    "plt.xlabel('Learning Rate')\n",
    "plt.ylabel('Accuracy')\n",
    "# Set the x-axis to log scale\n",
    "plt.xscale('log')\n",
    "plt.show()\n",
    "\n",
    "print(\"Accuracy:\", acc)\n",
    "\n",
    "model = GradientBoostingClassifier(learning_rate=.1, loss=\"exponential\")\n",
    "model.fit(train_x, train_y)\n",
    "# Generate class probabilities on the test set\n",
    "y_proba = model.predict_proba(test_x)\n",
    "\n",
    "# Compute the log loss of the model\n",
    "log_loss = log_loss(test_y, y_proba)\n",
    "\n",
    "print(\"Log Loss:\", log_loss)"
   ]
  },
  {
   "cell_type": "code",
   "execution_count": 113,
   "metadata": {},
   "outputs": [],
   "source": [
    "\n",
    "y_pred = model.predict_proba(new_x_test_df)\n",
    "\n",
    "test_patient_ids = new_x_test_df['patientunitstayid']\n",
    "submission_df = pd.DataFrame({'patientunitstayid': test_patient_ids, 'hospitaldischargestatus': y_pred[:, 1]})\n",
    "\n",
    "submission_df[\"patientunitstayid\"] = submission_df[\"patientunitstayid\"].astype(\"int64\")\n",
    "submission_df.to_csv('submission.csv', index=False)"
   ]
  }
 ],
 "metadata": {
  "kernelspec": {
   "display_name": "Python 3",
   "language": "python",
   "name": "python3"
  },
  "language_info": {
   "codemirror_mode": {
    "name": "ipython",
    "version": 3
   },
   "file_extension": ".py",
   "mimetype": "text/x-python",
   "name": "python",
   "nbconvert_exporter": "python",
   "pygments_lexer": "ipython3",
   "version": "3.10.11"
  }
 },
 "nbformat": 4,
 "nbformat_minor": 2
}
