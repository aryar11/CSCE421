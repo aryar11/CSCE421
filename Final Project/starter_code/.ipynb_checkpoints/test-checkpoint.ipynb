{
 "cells": [
  {
   "cell_type": "code",
   "execution_count": 1,
   "metadata": {},
   "outputs": [],
   "source": [
    "import os\n",
    "import sys\n",
    "import random\n",
    "\n",
    "import numpy as np\n",
    "import pandas as pd\n",
    "import matplotlib.pyplot as plt\n",
    "\n",
    "from keras.models import Sequential\n",
    "from keras.layers import Dense, Dropout, Activation, Flatten, Conv2D, MaxPooling2D"
   ]
  },
  {
   "cell_type": "markdown",
   "metadata": {},
   "source": [
    "Setting the random seed for reproducibility"
   ]
  },
  {
   "cell_type": "code",
   "execution_count": 2,
   "metadata": {},
   "outputs": [],
   "source": [
    "random.seed(42)\n",
    "np.random.seed(42)"
   ]
  },
  {
   "cell_type": "markdown",
   "metadata": {},
   "source": [
    "## Reading the Data"
   ]
  },
  {
   "cell_type": "code",
   "execution_count": 3,
   "metadata": {},
   "outputs": [],
   "source": [
    "x_train_df = pd.read_csv(\"./data/train_x.csv\", low_memory=False)\n",
    "y_train_df = pd.read_csv(\"./data/train_y.csv\", low_memory=False)\n",
    "x_test_df = pd.read_csv(\"./data/test_x.csv\", low_memory=False)"
   ]
  },
  {
   "cell_type": "markdown",
   "metadata": {},
   "source": [
    "## Remove Unnecessary Columns / Features"
   ]
  },
  {
   "cell_type": "code",
   "execution_count": 4,
   "metadata": {},
   "outputs": [],
   "source": [
    "new_x_train_df = x_train_df.drop(columns=[\"Unnamed: 0\", \"cellattributevalue\", \"celllabel\", \"labmeasurenamesystem\", \"labname\", \"labresult\"])\n",
    "new_x_test_df = x_test_df.drop(columns=[\"Unnamed: 0\", \"cellattributevalue\", \"celllabel\", \"labmeasurenamesystem\", \"labname\", \"labresult\"])\n",
    "new_y_train_df = y_train_df[\"hospitaldischargestatus\"]"
   ]
  },
  {
   "cell_type": "code",
   "execution_count": 5,
   "metadata": {},
   "outputs": [],
   "source": [
    "new_x_train_df.sort_values(by=[\"patientunitstayid\"], inplace=True)\n",
    "new_x_test_df.sort_values(by=[\"patientunitstayid\"], inplace=True)"
   ]
  },
  {
   "cell_type": "markdown",
   "metadata": {},
   "source": [
    "## Preprocessing"
   ]
  },
  {
   "cell_type": "code",
   "execution_count": 6,
   "metadata": {},
   "outputs": [],
   "source": [
    "new_x_train_df[\"age\"].replace(\"> 89\", 90, inplace=True)\n",
    "new_x_train_df[\"age\"] = new_x_train_df[\"age\"].astype(\"float64\")\n",
    "new_x_train_df[\"nursingchartvalue\"].replace(\"Unable to score due to medication\", np.nan, inplace=True)\n",
    "new_x_train_df[\"nursingchartvalue\"] = new_x_train_df[\"nursingchartvalue\"].astype(\"float64\")\n",
    "\n",
    "new_x_test_df[\"age\"].replace(\"> 89\", 90, inplace=True)\n",
    "new_x_test_df[\"age\"] = new_x_test_df[\"age\"].astype(\"float64\")\n",
    "new_x_test_df[\"nursingchartvalue\"].replace(\"Unable to score due to medication\", np.nan, inplace=True)\n",
    "new_x_test_df[\"nursingchartvalue\"] = new_x_test_df[\"nursingchartvalue\"].astype(\"float64\")"
   ]
  },
  {
   "cell_type": "code",
   "execution_count": 7,
   "metadata": {},
   "outputs": [],
   "source": [
    "def encode_data(train_df: pd.DataFrame, test_df: pd.DataFrame):\n",
    "    # Combine the training and test data\n",
    "    combined_df = pd.concat([train_df, test_df], axis=0)\n",
    "\n",
    "    numerical = combined_df.select_dtypes(include=[\"int64\", \"float64\"])\n",
    "    nonnumerical = combined_df.select_dtypes(exclude=[\"int64\", \"float64\"])\n",
    "    categorical = pd.get_dummies(nonnumerical)\n",
    "\n",
    "    # Split the combined data back into training and test data\n",
    "    n_train = len(train_df)\n",
    "    train_categorical = categorical.iloc[:n_train]\n",
    "    test_categorical = categorical.iloc[n_train:]\n",
    "\n",
    "    train_data = pd.concat([numerical[:n_train], train_categorical], axis=1)\n",
    "    test_data = pd.concat([numerical[n_train:], test_categorical], axis=1)\n",
    "\n",
    "    return train_data, test_data"
   ]
  },
  {
   "cell_type": "code",
   "execution_count": 8,
   "metadata": {},
   "outputs": [
    {
     "name": "stdout",
     "output_type": "stream",
     "text": [
      "(791936, 25)\n",
      "(225895, 25)\n"
     ]
    }
   ],
   "source": [
    "new_x_train_df, new_x_test_df = encode_data(new_x_train_df, new_x_test_df)\n",
    "\n",
    "print(new_x_train_df.shape)\n",
    "print(new_x_test_df.shape)"
   ]
  },
  {
   "cell_type": "code",
   "execution_count": 9,
   "metadata": {},
   "outputs": [],
   "source": [
    "nursing_chart_types = [col for col in new_x_train_df.columns if col.startswith(\"nursingchartcelltypevalname\")]\n",
    "for nursing_chart_type in nursing_chart_types:\n",
    "    new_x_train_df[nursing_chart_type] = new_x_train_df.apply(lambda row: row['nursingchartvalue'] if row[nursing_chart_type] == 1 else 0, axis=1)\n",
    "    new_x_test_df[nursing_chart_type] = new_x_test_df.apply(lambda row: row['nursingchartvalue'] if row[nursing_chart_type] == 1 else 0, axis=1)\n",
    "\n",
    "new_x_train_df.drop(columns=[\"nursingchartvalue\"], inplace=True)\n",
    "new_x_test_df.drop(columns=[\"nursingchartvalue\"], inplace=True)"
   ]
  },
  {
   "cell_type": "code",
   "execution_count": 10,
   "metadata": {},
   "outputs": [],
   "source": [
    "def aggregate_data(df: pd.DataFrame):\n",
    "    agg_dict = {\n",
    "        \"offset\": \"sum\",\n",
    "        \"admissionheight\": \"max\",\n",
    "        \"admissionweight\": \"max\",\n",
    "        \"age\": \"max\",\n",
    "        \"unitvisitnumber\": \"max\",\n",
    "        \"ethnicity_African American\": \"max\",\n",
    "        \"ethnicity_Asian\": \"max\",\n",
    "        \"ethnicity_Caucasian\": \"max\",\n",
    "        \"ethnicity_Hispanic\": \"max\",\n",
    "        \"ethnicity_Native American\": \"max\",\n",
    "        \"ethnicity_Other/Unknown\": \"max\",\n",
    "        \"gender_Female\": \"max\",\n",
    "        \"gender_Male\": \"max\",\n",
    "        \"nursingchartcelltypevalname_GCS Total\": lambda x: x[x != 0].mean(),\n",
    "        \"nursingchartcelltypevalname_Heart Rate\": lambda x: x[x != 0].mean(),\n",
    "        \"nursingchartcelltypevalname_Invasive BP Diastolic\": lambda x: x[x != 0].mean(),\n",
    "        \"nursingchartcelltypevalname_Invasive BP Mean\": lambda x: x[x != 0].mean(),\n",
    "        \"nursingchartcelltypevalname_Invasive BP Systolic\": lambda x: x[x != 0].mean(),\n",
    "        \"nursingchartcelltypevalname_Non-Invasive BP Diastolic\": lambda x: x[x != 0].mean(),\n",
    "        \"nursingchartcelltypevalname_Non-Invasive BP Mean\": lambda x: x[x != 0].mean(),\n",
    "        \"nursingchartcelltypevalname_Non-Invasive BP Systolic\": lambda x: x[x != 0].mean(),\n",
    "        \"nursingchartcelltypevalname_O2 Saturation\": lambda x: x[x != 0].mean(),\n",
    "        \"nursingchartcelltypevalname_Respiratory Rate\": lambda x: x[x != 0].mean(),\n",
    "    }\n",
    "    grouped_df = df.groupby(\"patientunitstayid\").agg(agg_dict)\n",
    "    grouped_df.reset_index(inplace=True)\n",
    "    return grouped_df"
   ]
  },
  {
   "cell_type": "code",
   "execution_count": 11,
   "metadata": {},
   "outputs": [],
   "source": [
    "new_x_train_df = aggregate_data(new_x_train_df)\n",
    "new_x_test_df = aggregate_data(new_x_test_df)"
   ]
  },
  {
   "cell_type": "code",
   "execution_count": 12,
   "metadata": {},
   "outputs": [],
   "source": [
    "numerical = new_x_train_df.select_dtypes(include=[\"int64\", \"float64\"])\n",
    "numerical.fillna(0, inplace=True)\n",
    "new_x_train_df.update(numerical)\n",
    "\n",
    "numerical = new_x_test_df.select_dtypes(include=[\"int64\", \"float64\"])\n",
    "numerical.fillna(0, inplace=True)\n",
    "new_x_test_df.update(numerical)"
   ]
  },
  {
   "cell_type": "code",
   "execution_count": 13,
   "metadata": {},
   "outputs": [],
   "source": [
    "new_x_train_df.to_csv(\"new_x2_train.csv\", index=False)"
   ]
  },
  {
   "cell_type": "code",
   "execution_count": 14,
   "metadata": {},
   "outputs": [
    {
     "name": "stdout",
     "output_type": "stream",
     "text": [
      "(2016, 24)\n",
      "(2016,)\n"
     ]
    }
   ],
   "source": [
    "print(new_x_train_df.shape)\n",
    "print(new_y_train_df.shape)"
   ]
  },
  {
   "cell_type": "code",
   "execution_count": 15,
   "metadata": {},
   "outputs": [
    {
     "name": "stdout",
     "output_type": "stream",
     "text": [
      "Model: \"sequential\"\n",
      "_________________________________________________________________\n",
      " Layer (type)                Output Shape              Param #   \n",
      "=================================================================\n",
      " dense (Dense)               (None, 64)                1600      \n",
      "                                                                 \n",
      " dense_1 (Dense)             (None, 32)                2080      \n",
      "                                                                 \n",
      " dense_2 (Dense)             (None, 1)                 33        \n",
      "                                                                 \n",
      "=================================================================\n",
      "Total params: 3,713\n",
      "Trainable params: 3,713\n",
      "Non-trainable params: 0\n",
      "_________________________________________________________________\n"
     ]
    }
   ],
   "source": [
    "model = Sequential()\n",
    "model.add(Dense(64, activation=\"relu\", input_dim=new_x_train_df.shape[1]))\n",
    "model.add(Dense(32, activation=\"relu\"))\n",
    "model.add(Dense(1, activation=\"sigmoid\"))\n",
    "model.summary()"
   ]
  },
  {
   "cell_type": "code",
   "execution_count": 16,
   "metadata": {},
   "outputs": [
    {
     "name": "stdout",
     "output_type": "stream",
     "text": [
      "Epoch 1/50\n",
      "162/162 [==============================] - 1s 2ms/step - loss: 40631.6914 - accuracy: 0.8431 - val_loss: 32102.9434 - val_accuracy: 0.5050\n",
      "Epoch 2/50\n",
      "162/162 [==============================] - 0s 1ms/step - loss: 25271.0938 - accuracy: 0.8393 - val_loss: 24666.6406 - val_accuracy: 0.8911\n",
      "Epoch 3/50\n",
      "162/162 [==============================] - 0s 1ms/step - loss: 25203.5859 - accuracy: 0.8505 - val_loss: 45085.7578 - val_accuracy: 0.8911\n",
      "Epoch 4/50\n",
      "162/162 [==============================] - 0s 1ms/step - loss: 16199.6426 - accuracy: 0.8530 - val_loss: 32138.0996 - val_accuracy: 0.8911\n",
      "Epoch 5/50\n",
      "162/162 [==============================] - 0s 1ms/step - loss: 17979.0234 - accuracy: 0.8499 - val_loss: 2904.9475 - val_accuracy: 0.8317\n",
      "Epoch 6/50\n",
      "162/162 [==============================] - 0s 1ms/step - loss: 3445.0898 - accuracy: 0.8598 - val_loss: 8929.1670 - val_accuracy: 0.8911\n",
      "Epoch 7/50\n",
      "162/162 [==============================] - 0s 1ms/step - loss: 12206.0215 - accuracy: 0.8257 - val_loss: 72812.1328 - val_accuracy: 0.8564\n",
      "Epoch 8/50\n",
      "162/162 [==============================] - 0s 1ms/step - loss: 25811.2324 - accuracy: 0.8685 - val_loss: 17211.7480 - val_accuracy: 0.8911\n",
      "Epoch 9/50\n",
      "162/162 [==============================] - 0s 1ms/step - loss: 11063.6221 - accuracy: 0.8555 - val_loss: 28423.2383 - val_accuracy: 0.8911\n",
      "Epoch 10/50\n",
      "162/162 [==============================] - 0s 1ms/step - loss: 6611.7622 - accuracy: 0.8412 - val_loss: 36892.1523 - val_accuracy: 0.8911\n",
      "Epoch 11/50\n",
      "162/162 [==============================] - 0s 1ms/step - loss: 8848.2373 - accuracy: 0.8778 - val_loss: 34342.3477 - val_accuracy: 0.8911\n",
      "Epoch 12/50\n",
      "162/162 [==============================] - 0s 1ms/step - loss: 24263.8984 - accuracy: 0.8604 - val_loss: 19324.3184 - val_accuracy: 0.8911\n",
      "Epoch 13/50\n",
      "162/162 [==============================] - 0s 1ms/step - loss: 21533.2949 - accuracy: 0.8244 - val_loss: 32467.3770 - val_accuracy: 0.8911\n",
      "Epoch 14/50\n",
      "162/162 [==============================] - 0s 1ms/step - loss: 12799.9541 - accuracy: 0.8710 - val_loss: 3879.3230 - val_accuracy: 0.8911\n",
      "Epoch 15/50\n",
      "162/162 [==============================] - 0s 1ms/step - loss: 4307.1621 - accuracy: 0.8480 - val_loss: 11290.4023 - val_accuracy: 0.8911\n",
      "Epoch 16/50\n",
      "162/162 [==============================] - 0s 1ms/step - loss: 24446.9512 - accuracy: 0.8083 - val_loss: 30691.2324 - val_accuracy: 0.8911\n",
      "Epoch 17/50\n",
      "162/162 [==============================] - 0s 1ms/step - loss: 6421.8340 - accuracy: 0.8828 - val_loss: 5030.3247 - val_accuracy: 0.8886\n",
      "Epoch 18/50\n",
      "162/162 [==============================] - 0s 1ms/step - loss: 19120.3145 - accuracy: 0.8542 - val_loss: 2759.2463 - val_accuracy: 0.5965\n",
      "Epoch 19/50\n",
      "162/162 [==============================] - 0s 1ms/step - loss: 13284.5098 - accuracy: 0.8468 - val_loss: 6597.2056 - val_accuracy: 0.8911\n",
      "Epoch 20/50\n",
      "162/162 [==============================] - 0s 1ms/step - loss: 16782.5742 - accuracy: 0.8362 - val_loss: 20400.2676 - val_accuracy: 0.8911\n",
      "Epoch 21/50\n",
      "162/162 [==============================] - 0s 1ms/step - loss: 4415.8584 - accuracy: 0.8772 - val_loss: 1282.8306 - val_accuracy: 0.8886\n",
      "Epoch 22/50\n",
      "162/162 [==============================] - 0s 1ms/step - loss: 2968.2090 - accuracy: 0.8319 - val_loss: 12787.1064 - val_accuracy: 0.8911\n",
      "Epoch 23/50\n",
      "162/162 [==============================] - 0s 1ms/step - loss: 2620.0920 - accuracy: 0.8635 - val_loss: 2754.3716 - val_accuracy: 0.8144\n",
      "Epoch 24/50\n",
      "162/162 [==============================] - 0s 1ms/step - loss: 9052.2793 - accuracy: 0.8207 - val_loss: 23028.5117 - val_accuracy: 0.8911\n",
      "Epoch 25/50\n",
      "162/162 [==============================] - 0s 1ms/step - loss: 3932.0737 - accuracy: 0.8846 - val_loss: 11626.3428 - val_accuracy: 0.8911\n",
      "Epoch 26/50\n",
      "162/162 [==============================] - 0s 1ms/step - loss: 4862.6382 - accuracy: 0.8455 - val_loss: 19104.8496 - val_accuracy: 0.6906\n",
      "Epoch 27/50\n",
      "162/162 [==============================] - 0s 1ms/step - loss: 5287.6030 - accuracy: 0.8883 - val_loss: 15762.5264 - val_accuracy: 0.7550\n",
      "Epoch 28/50\n",
      "162/162 [==============================] - 0s 1ms/step - loss: 9850.7588 - accuracy: 0.8468 - val_loss: 12336.9639 - val_accuracy: 0.8911\n",
      "Epoch 29/50\n",
      "162/162 [==============================] - 0s 1ms/step - loss: 1088.7999 - accuracy: 0.8660 - val_loss: 1236.8702 - val_accuracy: 0.8688\n",
      "Epoch 30/50\n",
      "162/162 [==============================] - 0s 1ms/step - loss: 8849.6504 - accuracy: 0.8375 - val_loss: 4438.7236 - val_accuracy: 0.8911\n",
      "Epoch 31/50\n",
      "162/162 [==============================] - 0s 1ms/step - loss: 1767.0724 - accuracy: 0.8759 - val_loss: 1258.3685 - val_accuracy: 0.8045\n",
      "Epoch 32/50\n",
      "162/162 [==============================] - 0s 1ms/step - loss: 1029.6509 - accuracy: 0.8499 - val_loss: 8489.7031 - val_accuracy: 0.5297\n",
      "Epoch 33/50\n",
      "162/162 [==============================] - 0s 1ms/step - loss: 8613.2764 - accuracy: 0.8393 - val_loss: 4148.2227 - val_accuracy: 0.8861\n",
      "Epoch 34/50\n",
      "162/162 [==============================] - 0s 1ms/step - loss: 1902.0361 - accuracy: 0.8486 - val_loss: 1697.9479 - val_accuracy: 0.7748\n",
      "Epoch 35/50\n",
      "162/162 [==============================] - 0s 1ms/step - loss: 4810.0166 - accuracy: 0.8381 - val_loss: 4251.7554 - val_accuracy: 0.8911\n",
      "Epoch 36/50\n",
      "162/162 [==============================] - 0s 1ms/step - loss: 9607.3496 - accuracy: 0.8530 - val_loss: 1170.3323 - val_accuracy: 0.8936\n",
      "Epoch 37/50\n",
      "162/162 [==============================] - 0s 1ms/step - loss: 4567.7012 - accuracy: 0.8102 - val_loss: 18114.6543 - val_accuracy: 0.8416\n",
      "Epoch 38/50\n",
      "162/162 [==============================] - 0s 1ms/step - loss: 2618.0256 - accuracy: 0.8865 - val_loss: 1242.5688 - val_accuracy: 0.8861\n",
      "Epoch 39/50\n",
      "162/162 [==============================] - 0s 1ms/step - loss: 1744.7821 - accuracy: 0.8666 - val_loss: 6844.8174 - val_accuracy: 0.8787\n",
      "Epoch 40/50\n",
      "162/162 [==============================] - 0s 1ms/step - loss: 766.1380 - accuracy: 0.8505 - val_loss: 2573.9456 - val_accuracy: 0.8911\n",
      "Epoch 41/50\n",
      "162/162 [==============================] - 0s 1ms/step - loss: 671.8203 - accuracy: 0.8691 - val_loss: 1549.3680 - val_accuracy: 0.8515\n",
      "Epoch 42/50\n",
      "162/162 [==============================] - 0s 1ms/step - loss: 1071.5049 - accuracy: 0.8710 - val_loss: 1997.2894 - val_accuracy: 0.8639\n",
      "Epoch 43/50\n",
      "162/162 [==============================] - 0s 1ms/step - loss: 5787.2041 - accuracy: 0.8524 - val_loss: 7408.2363 - val_accuracy: 0.8911\n",
      "Epoch 44/50\n",
      "162/162 [==============================] - 0s 1ms/step - loss: 5595.2891 - accuracy: 0.8418 - val_loss: 3512.6328 - val_accuracy: 0.8366\n",
      "Epoch 45/50\n",
      "162/162 [==============================] - 0s 1ms/step - loss: 1002.1203 - accuracy: 0.8672 - val_loss: 6240.4492 - val_accuracy: 0.1114\n",
      "Epoch 46/50\n",
      "162/162 [==============================] - 0s 1ms/step - loss: 6410.9546 - accuracy: 0.8344 - val_loss: 2180.4290 - val_accuracy: 0.8911\n",
      "Epoch 47/50\n",
      "162/162 [==============================] - 0s 1ms/step - loss: 1326.2587 - accuracy: 0.8766 - val_loss: 4469.7290 - val_accuracy: 0.1708\n",
      "Epoch 48/50\n",
      "162/162 [==============================] - 0s 2ms/step - loss: 2206.0920 - accuracy: 0.8579 - val_loss: 3154.1853 - val_accuracy: 0.7847\n",
      "Epoch 49/50\n",
      "162/162 [==============================] - 0s 1ms/step - loss: 908.2832 - accuracy: 0.8759 - val_loss: 427.0779 - val_accuracy: 0.8911\n",
      "Epoch 50/50\n",
      "162/162 [==============================] - 0s 1ms/step - loss: 1758.3298 - accuracy: 0.8468 - val_loss: 4954.1982 - val_accuracy: 0.7970\n"
     ]
    }
   ],
   "source": [
    "model.compile(loss=\"binary_crossentropy\", optimizer=\"adam\", metrics=[\"accuracy\"])\n",
    "\n",
    "history = model.fit(new_x_train_df, new_y_train_df, epochs=50, batch_size=10, validation_split=0.2)"
   ]
  },
  {
   "cell_type": "code",
   "execution_count": 17,
   "metadata": {},
   "outputs": [
    {
     "name": "stdout",
     "output_type": "stream",
     "text": [
      "dict_keys(['loss', 'accuracy', 'val_loss', 'val_accuracy'])\n"
     ]
    }
   ],
   "source": [
    "print(history.history.keys())"
   ]
  },
  {
   "cell_type": "code",
   "execution_count": null,
   "metadata": {},
   "outputs": [],
   "source": [
    "# summarize history for accuracy\n",
    "plt.plot(history.history['accuracy'])\n",
    "plt.plot(history.history['val_accuracy'])\n",
    "plt.title('model accuracy')\n",
    "plt.ylabel('accuracy')\n",
    "plt.xlabel('epoch')\n",
    "plt.legend(['train', 'test'], loc='upper left')\n",
    "plt.show()\n",
    "# summarize history for loss\n",
    "plt.plot(history.history['loss'])\n",
    "plt.plot(history.history['val_loss'])\n",
    "plt.title('model loss')\n",
    "plt.ylabel('loss')\n",
    "plt.xlabel('epoch')\n",
    "plt.legend(['train', 'test'], loc='upper left')\n",
    "plt.show()"
   ]
  },
  {
   "cell_type": "code",
   "execution_count": null,
   "metadata": {},
   "outputs": [],
   "source": [
    "y_pred = model.predict(new_x_test_df)"
   ]
  },
  {
   "cell_type": "code",
   "execution_count": null,
   "metadata": {},
   "outputs": [],
   "source": [
    "submission_df = pd.DataFrame({'patientunitstayid': test_patient_ids, 'hospitaldischargestatus': np.squeeze(y_pred)})\n",
    "submission_df[\"patientunitstayid\"] = submission_df[\"patientunitstayid\"].astype(\"int64\")\n",
    "print(submission_df.dtypes)\n",
    "submission_df.to_csv('submission.csv', index=False)"
   ]
  },
  {
   "cell_type": "code",
   "execution_count": null,
   "metadata": {},
   "outputs": [],
   "source": []
  }
 ],
 "metadata": {
  "kernelspec": {
   "display_name": "Python 3",
   "language": "python",
   "name": "python3"
  },
  "language_info": {
   "codemirror_mode": {
    "name": "ipython",
    "version": 3
   },
   "file_extension": ".py",
   "mimetype": "text/x-python",
   "name": "python",
   "nbconvert_exporter": "python",
   "pygments_lexer": "ipython3",
   "version": "3.8.8"
  }
 },
 "nbformat": 4,
 "nbformat_minor": 2
}
